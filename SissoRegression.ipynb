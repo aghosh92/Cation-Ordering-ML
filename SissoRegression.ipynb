{
  "cells": [
    {
      "cell_type": "markdown",
      "metadata": {
        "id": "view-in-github",
        "colab_type": "text"
      },
      "source": [
        "<a href=\"https://colab.research.google.com/github/aghosh92/Cation-Ordering-ML/blob/main/SissoRegression.ipynb\" target=\"_parent\"><img src=\"https://colab.research.google.com/assets/colab-badge.svg\" alt=\"Open In Colab\"/></a>"
      ]
    },
    {
      "cell_type": "markdown",
      "metadata": {
        "id": "krP27-7iO_jZ"
      },
      "source": [
        "This notebook has been prepared by Dennis P. Trujillo and Ayana Ghosh.\n",
        "\n",
        "Email: dptru10@gmail.com \n",
        "\n",
        "Email: research.aghosh@gmail.com\n",
        "\n",
        "It shows the following:\n",
        "\n",
        "1. How SISSO approach can be implemented within a regression environment to find the best combination of non-linearized features with respect to the target using Matminer and Automatminer.\n",
        "\n",
        "Link to all datasets: https://doi.org/10.5281/zenodo.6570994"
      ]
    },
    {
      "cell_type": "markdown",
      "metadata": {
        "id": "vnwTDb3TaloZ"
      },
      "source": [
        "Install packages"
      ]
    },
    {
      "cell_type": "code",
      "execution_count": null,
      "metadata": {
        "id": "ST8V3gzxalob"
      },
      "outputs": [],
      "source": [
        "!pip install -q matminer \n",
        "!pip install -q automatminer "
      ]
    },
    {
      "cell_type": "markdown",
      "metadata": {
        "id": "dK-gAA2caloe"
      },
      "source": [
        "Import essential packages"
      ]
    },
    {
      "cell_type": "code",
      "execution_count": null,
      "metadata": {
        "id": "8KosB4L-alof"
      },
      "outputs": [],
      "source": [
        "import os\n",
        "import pandas as pd\n",
        "import numpy as np\n",
        "from itertools import combinations\n",
        "from sklearn.linear_model import Lasso\n",
        "from matminer.featurizers.function import FunctionFeaturizer\n",
        "from automatminer import DataCleaner"
      ]
    },
    {
      "cell_type": "code",
      "execution_count": null,
      "metadata": {
        "colab": {
          "base_uri": "https://localhost:8080/"
        },
        "outputId": "eb5ce8fb-4c65-4239-99b0-8be046b70407",
        "id": "sYimlzHQalog"
      },
      "outputs": [
        {
          "output_type": "execute_result",
          "data": {
            "text/plain": [
              "Index(['Index', 'Compound name', 'A site', 'A'site', 'B site', 'B'site', 'C_A',\n",
              "       'C_A'', 'Cn_A', 'Cn_A'', 'C_B', 'C_B'', 'Cn_B', 'Cn_B'', 'r_Asite',\n",
              "       'r_A'site', 'r_Bsite', 'r_B'site', 'Avg_AA'', 'Avg_BB'', 'TF',\n",
              "       'Fermi_energy', '_cellength_a', '_cellength_b', '_cellength_c',\n",
              "       '_cell_angle_alpha', '_cell_angle_beta', '_cell_angle_gamma',\n",
              "       '_cell_volume', 'space_groupS', 'Space_group_NoS', 'space_group_HS',\n",
              "       'Space_group_No_HS', 'Total_mag_Outcar', 'mag_B', 'mag_B'', 'mag_O',\n",
              "       'A_s', 'A_p', 'A_d', 'A'_s', 'A'_p', 'A'_d', 'B_s', 'B_p', 'B_d',\n",
              "       'B'_s', 'B'_p', 'B'_d', 'O_s', 'O_p', 'dis_x_A1', 'dis_x_A2',\n",
              "       'dis_y_A1', 'dis_y_A2', 'dis_x_A'1', 'dis_x_A'2', 'dis_y_A'1',\n",
              "       'dis_y_A'2', '|x_A_dis|', '|y_A_dis|', '|x_A'_dis|', '|y_A'_dis|',\n",
              "       '|A_dis|', '|A'_dis|', 'tilt_angle', 'rot_angle', 'Energy', 'Energy_C',\n",
              "       'Energy_R', 'Energy_diff', 'Energy_diff(meV)', 'Energy_5-atom_unitcell',\n",
              "       'Q_R+', 'Q_T', 'Q_AFE_(A)', 'Q_AFE_(O)', 'CD_(2D)', 'target_label'],\n",
              "      dtype='object')"
            ]
          },
          "metadata": {},
          "execution_count": 30
        }
      ],
      "source": [
        "#filename = \"final_layer_predict_energy_diff.csv\"\n",
        "df = pd.read_csv(\"https://zenodo.org/record/6570994/files/Model_V_VI_VII.csv?download=1\", on_bad_lines='skip').head(n=20)\n",
        "df.columns"
      ]
    },
    {
      "cell_type": "code",
      "execution_count": null,
      "metadata": {
        "id": "b1QqFZGRaloh"
      },
      "outputs": [],
      "source": [
        "target   = 'Energy_diff'\n",
        "selected_feature_list = ['C_B','r_B\\'site','B\\'_p','B\\'_d','|y_A_dis|','dis_y_A\\'2','dis_y_A\\'1','_cell_volume','r_Asite','_cellength_a']\n",
        "df_x = df[selected_feature_list]"
      ]
    },
    {
      "cell_type": "code",
      "source": [
        "#rename columns for FunctionFeaturizer to work properly (no bar or quotes allowed)\n",
        "df_x.columns = ['C_B','r_B_prime_site','B_prime_p','B_prime_d','_bar_y_A_dis_bar_','dis_y_A_prime_2','dis_y_A_prime_1','_cell_volume','r_Asite','_cellength_a']\n",
        "selected_feature_list = df_x.columns"
      ],
      "metadata": {
        "id": "Rz0pSMb6aDpd"
      },
      "execution_count": null,
      "outputs": []
    },
    {
      "cell_type": "code",
      "execution_count": null,
      "metadata": {
        "id": "YEBT-VDNaloj"
      },
      "outputs": [],
      "source": [
        "def get_data(selected_feature_list):\n",
        "    \n",
        "    function_featurizer = FunctionFeaturizer(multi_feature_depth=2,combo_function=np.sum)\n",
        "    function_featurizer.set_n_jobs(4)\n",
        "    function_featurizer=function_featurizer.fit(df_x[selected_feature_list])\n",
        "    df_combined=function_featurizer.featurize_dataframe(df_x[selected_feature_list],selected_feature_list)\n",
        "\n",
        "    df_combined[target] = df[target]\n",
        "    df_combined=df_combined.replace([np.inf,-np.inf],np.nan)\n",
        "    df_combined=df_combined.dropna(axis=1)\n",
        "    df_combined=df_combined.drop(columns=selected_feature_list,axis=1)\n",
        "    df_combined.to_csv('functionalized_data.csv')\n",
        "\n",
        "    P = df_combined[target].values\n",
        "    df_combined = df_combined.loc[:, df_combined.columns != target]\n",
        "\n",
        "    return P, df_combined"
      ]
    },
    {
      "cell_type": "code",
      "execution_count": null,
      "metadata": {
        "colab": {
          "base_uri": "https://localhost:8080/"
        },
        "outputId": "eae09abd-53e8-4e60-c67e-ebdd7d0696bd",
        "id": "z0UY1dPsalok"
      },
      "outputs": [
        {
          "output_type": "stream",
          "name": "stdout",
          "text": [
            "generating functionalized data...\n"
          ]
        },
        {
          "output_type": "stream",
          "name": "stderr",
          "text": [
            "FunctionFeaturizer: 100%|██████████| 20/20 [02:21<00:00,  7.09s/it]\n"
          ]
        }
      ],
      "source": [
        "print('generating functionalized data...')\n",
        "P, df_D = get_data(selected_feature_list)\n",
        "features_list = df_D.columns.to_list()\n",
        "D = df_D.values"
      ]
    },
    {
      "cell_type": "code",
      "execution_count": null,
      "metadata": {
        "id": "QrpcDo75alol"
      },
      "outputs": [],
      "source": [
        "def lasso_fit(lam, P, D, feature_list):\n",
        "    #LASSO\n",
        "    #D_standardized = ss.zscore(D)\n",
        "    lasso =  Lasso(alpha=lam)\n",
        "    lasso.fit(D, P) \n",
        "    coef =  lasso.coef_\n",
        "    \n",
        "    # get strings of selected features\n",
        "    selected_indices = coef.nonzero()[0]\n",
        "    selected_features = [feature_list[i] for i in selected_indices]\n",
        "    \n",
        "    # get RMSE of LASSO model\n",
        "    P_predict = lasso.predict(D)\n",
        "\n",
        "    return coef,selected_features"
      ]
    },
    {
      "cell_type": "code",
      "execution_count": null,
      "metadata": {
        "colab": {
          "base_uri": "https://localhost:8080/"
        },
        "outputId": "428a9afc-5e5e-40b5-98a9-d1fc3f5a0f7a",
        "id": "i3s8VA94alom"
      },
      "outputs": [
        {
          "output_type": "stream",
          "name": "stderr",
          "text": [
            "/usr/local/lib/python3.7/dist-packages/sklearn/linear_model/_coordinate_descent.py:476: ConvergenceWarning: Objective did not converge. You might want to increase the number of iterations. Duality gap: 0.4314112506264027, tolerance: 0.00016679218432502437\n",
            "  positive)\n"
          ]
        }
      ],
      "source": [
        "alpha = 0.2\n",
        "\n",
        "coef, selected_features = lasso_fit(alpha, P, D, features_list)"
      ]
    },
    {
      "cell_type": "code",
      "execution_count": null,
      "metadata": {
        "colab": {
          "base_uri": "https://localhost:8080/"
        },
        "outputId": "fac93736-456d-402c-a2c6-acbdf2db1086",
        "id": "zcKgRpURalon"
      },
      "outputs": [
        {
          "output_type": "stream",
          "name": "stdout",
          "text": [
            "alpha: 0.200\t dimension of descriptor: 535\n",
            "                                      features  abs(nonzero_coefs_LASSO)\n",
            "447      exp(_cellength_a) + 1/dis_y_A_prime_2                  0.003061\n",
            "489      exp(_cellength_a) + 1/dis_y_A_prime_1                  0.002405\n",
            "402      1/dis_y_A_prime_2 + 1/dis_y_A_prime_1                  0.001851\n",
            "254         exp(B_prime_d) + 1/dis_y_A_prime_2                  0.001529\n",
            "303         exp(B_prime_d) + exp(_cellength_a)                  0.001145\n",
            "262         exp(B_prime_d) + 1/dis_y_A_prime_1                  0.000270\n",
            "4                              _cell_volume**2                  0.000039\n",
            "302            exp(B_prime_d) + 1/log(r_Asite)                  0.000039\n",
            "442     1/log(r_Asite) + dis_y_A_prime_2**(-2)                  0.000036\n",
            "403  1/dis_y_A_prime_2 + dis_y_A_prime_1**(-2)                  0.000033\n"
          ]
        }
      ],
      "source": [
        "print(\"alpha: %.3f\\t dimension of descriptor: %s\" \n",
        "      %(alpha, len(selected_features)))\n",
        "lasso_features=pd.DataFrame({'features':np.array(selected_features), 'abs(nonzero_coefs_LASSO)': np.abs(coef[coef.nonzero()])}).sort_values(by='abs(nonzero_coefs_LASSO)',ascending=False)\n",
        "print(lasso_features.head(n=10))\n",
        "lasso_features.to_csv('lasso_equations.csv')"
      ]
    }
  ],
  "metadata": {
    "colab": {
      "collapsed_sections": [],
      "name": "SissoRegression.ipynb",
      "provenance": [],
      "include_colab_link": true
    },
    "kernelspec": {
      "display_name": "Python 3",
      "name": "python3"
    },
    "language_info": {
      "name": "python"
    }
  },
  "nbformat": 4,
  "nbformat_minor": 0
}