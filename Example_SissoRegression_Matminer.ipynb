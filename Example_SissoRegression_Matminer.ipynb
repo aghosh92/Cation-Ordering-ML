{
  "nbformat": 4,
  "nbformat_minor": 0,
  "metadata": {
    "colab": {
      "name": "Example_SissoRegression_Matminer.ipynb",
      "provenance": [],
      "collapsed_sections": [],
      "include_colab_link": true
    },
    "kernelspec": {
      "name": "python3",
      "display_name": "Python 3"
    },
    "language_info": {
      "name": "python"
    }
  },
  "cells": [
    {
      "cell_type": "markdown",
      "metadata": {
        "id": "view-in-github",
        "colab_type": "text"
      },
      "source": [
        "<a href=\"https://colab.research.google.com/github/aghosh92/Cation-Ordering-ML/blob/main/Example_SissoRegression_Matminer.ipynb\" target=\"_parent\"><img src=\"https://colab.research.google.com/assets/colab-badge.svg\" alt=\"Open In Colab\"/></a>"
      ]
    },
    {
      "cell_type": "markdown",
      "source": [
        "This notebook has been prepared by Dennis P. Trujillo and Ayana Ghosh.\n",
        "\n",
        "Email: dptru10@gmail.com \n",
        "\n",
        "Email: research.aghosh@gmail.com\n",
        "\n",
        "It shows how SISSO approach can be implemented within a regression environment to find the best combination of non-linearized features with respect to the target using Matminer and Automatminer.\n",
        "\n",
        "Note: User may want to restart runtime to avoid any installation errors due to inconsistencies of the version of packages that the environment uses. If this happens, please restart runtime and run the cells, to start using this notebook."
      ],
      "metadata": {
        "id": "krP27-7iO_jZ"
      }
    },
    {
      "cell_type": "markdown",
      "source": [
        "Install packages"
      ],
      "metadata": {
        "id": "EvYosxi9WX-2"
      }
    },
    {
      "cell_type": "code",
      "execution_count": 1,
      "metadata": {
        "colab": {
          "base_uri": "https://localhost:8080/"
        },
        "id": "drNubpKChM8A",
        "outputId": "1dfbb427-be62-4c32-b3fe-15e0791a2e11"
      },
      "outputs": [
        {
          "output_type": "stream",
          "name": "stdout",
          "text": [
            "Requirement already satisfied: matminer in /usr/local/lib/python3.7/dist-packages (0.6.2)\n",
            "Requirement already satisfied: numpy>=1.17.2 in /usr/local/lib/python3.7/dist-packages (from matminer) (1.21.5)\n",
            "Requirement already satisfied: future>=0.16.0 in /usr/local/lib/python3.7/dist-packages (from matminer) (0.18.2)\n",
            "Requirement already satisfied: scikit-learn>=0.21.3 in /usr/local/lib/python3.7/dist-packages (from matminer) (0.22.2)\n",
            "Requirement already satisfied: tqdm>=4.23.1 in /usr/local/lib/python3.7/dist-packages (from matminer) (4.62.3)\n",
            "Requirement already satisfied: six>=1.11.0 in /usr/local/lib/python3.7/dist-packages (from matminer) (1.16.0)\n",
            "Requirement already satisfied: requests>=2.20.0 in /usr/local/lib/python3.7/dist-packages (from matminer) (2.27.1)\n",
            "Requirement already satisfied: sympy>=1.1.1 in /usr/local/lib/python3.7/dist-packages (from matminer) (1.9)\n",
            "Requirement already satisfied: pandas>=0.23.4 in /usr/local/lib/python3.7/dist-packages (from matminer) (1.3.5)\n",
            "Requirement already satisfied: plotly>=3.2.1 in /usr/local/lib/python3.7/dist-packages (from matminer) (5.5.0)\n",
            "Requirement already satisfied: pymongo>=3.6.1 in /usr/local/lib/python3.7/dist-packages (from matminer) (4.0.1)\n",
            "Requirement already satisfied: monty>=3.0.1 in /usr/local/lib/python3.7/dist-packages (from matminer) (2021.12.1)\n",
            "Requirement already satisfied: pymatgen>=2019.10.2 in /usr/local/lib/python3.7/dist-packages (from matminer) (2020.1.28)\n",
            "Requirement already satisfied: pint>=0.8.1 in /usr/local/lib/python3.7/dist-packages (from matminer) (0.18)\n",
            "Requirement already satisfied: python-dateutil>=2.7.3 in /usr/local/lib/python3.7/dist-packages (from pandas>=0.23.4->matminer) (2.8.2)\n",
            "Requirement already satisfied: pytz>=2017.3 in /usr/local/lib/python3.7/dist-packages (from pandas>=0.23.4->matminer) (2018.9)\n",
            "Requirement already satisfied: importlib-metadata in /usr/local/lib/python3.7/dist-packages (from pint>=0.8.1->matminer) (4.10.0)\n",
            "Requirement already satisfied: packaging in /usr/local/lib/python3.7/dist-packages (from pint>=0.8.1->matminer) (21.3)\n",
            "Requirement already satisfied: tenacity>=6.2.0 in /usr/local/lib/python3.7/dist-packages (from plotly>=3.2.1->matminer) (8.0.1)\n",
            "Requirement already satisfied: networkx>=2.2 in /usr/local/lib/python3.7/dist-packages (from pymatgen>=2019.10.2->matminer) (2.6.3)\n",
            "Requirement already satisfied: scipy>=1.0.1 in /usr/local/lib/python3.7/dist-packages (from pymatgen>=2019.10.2->matminer) (1.7.3)\n",
            "Requirement already satisfied: matplotlib>=1.5 in /usr/local/lib/python3.7/dist-packages (from pymatgen>=2019.10.2->matminer) (3.2.2)\n",
            "Requirement already satisfied: spglib>=1.9.9.44 in /usr/local/lib/python3.7/dist-packages (from pymatgen>=2019.10.2->matminer) (1.16.3)\n",
            "Requirement already satisfied: tabulate in /usr/local/lib/python3.7/dist-packages (from pymatgen>=2019.10.2->matminer) (0.8.9)\n",
            "Requirement already satisfied: pydispatcher>=2.0.5 in /usr/local/lib/python3.7/dist-packages (from pymatgen>=2019.10.2->matminer) (2.0.5)\n",
            "Requirement already satisfied: palettable>=3.1.1 in /usr/local/lib/python3.7/dist-packages (from pymatgen>=2019.10.2->matminer) (3.3.0)\n",
            "Requirement already satisfied: ruamel.yaml>=0.15.6 in /usr/local/lib/python3.7/dist-packages (from pymatgen>=2019.10.2->matminer) (0.17.20)\n",
            "Requirement already satisfied: cycler>=0.10 in /usr/local/lib/python3.7/dist-packages (from matplotlib>=1.5->pymatgen>=2019.10.2->matminer) (0.11.0)\n",
            "Requirement already satisfied: pyparsing!=2.0.4,!=2.1.2,!=2.1.6,>=2.0.1 in /usr/local/lib/python3.7/dist-packages (from matplotlib>=1.5->pymatgen>=2019.10.2->matminer) (3.0.6)\n",
            "Requirement already satisfied: kiwisolver>=1.0.1 in /usr/local/lib/python3.7/dist-packages (from matplotlib>=1.5->pymatgen>=2019.10.2->matminer) (1.3.2)\n",
            "Requirement already satisfied: idna<4,>=2.5 in /usr/local/lib/python3.7/dist-packages (from requests>=2.20.0->matminer) (2.10)\n",
            "Requirement already satisfied: charset-normalizer~=2.0.0 in /usr/local/lib/python3.7/dist-packages (from requests>=2.20.0->matminer) (2.0.10)\n",
            "Requirement already satisfied: certifi>=2017.4.17 in /usr/local/lib/python3.7/dist-packages (from requests>=2.20.0->matminer) (2021.10.8)\n",
            "Requirement already satisfied: urllib3<1.27,>=1.21.1 in /usr/local/lib/python3.7/dist-packages (from requests>=2.20.0->matminer) (1.24.3)\n",
            "Requirement already satisfied: ruamel.yaml.clib>=0.2.6 in /usr/local/lib/python3.7/dist-packages (from ruamel.yaml>=0.15.6->pymatgen>=2019.10.2->matminer) (0.2.6)\n",
            "Requirement already satisfied: joblib>=0.11 in /usr/local/lib/python3.7/dist-packages (from scikit-learn>=0.21.3->matminer) (1.1.0)\n",
            "Requirement already satisfied: mpmath>=0.19 in /usr/local/lib/python3.7/dist-packages (from sympy>=1.1.1->matminer) (1.2.1)\n",
            "Requirement already satisfied: zipp>=0.5 in /usr/local/lib/python3.7/dist-packages (from importlib-metadata->pint>=0.8.1->matminer) (3.7.0)\n",
            "Requirement already satisfied: typing-extensions>=3.6.4 in /usr/local/lib/python3.7/dist-packages (from importlib-metadata->pint>=0.8.1->matminer) (3.10.0.2)\n",
            "Requirement already satisfied: automatminer in /usr/local/lib/python3.7/dist-packages (1.0.3.20200727)\n",
            "Requirement already satisfied: scikit-learn==0.22.2 in /usr/local/lib/python3.7/dist-packages (from automatminer) (0.22.2)\n",
            "Requirement already satisfied: skrebate==0.6 in /usr/local/lib/python3.7/dist-packages (from automatminer) (0.6)\n",
            "Requirement already satisfied: matminer==0.6.2 in /usr/local/lib/python3.7/dist-packages (from automatminer) (0.6.2)\n",
            "Requirement already satisfied: tpot==0.11.0 in /usr/local/lib/python3.7/dist-packages (from automatminer) (0.11.0)\n",
            "Requirement already satisfied: pymatgen==2020.01.28 in /usr/local/lib/python3.7/dist-packages (from automatminer) (2020.1.28)\n",
            "Requirement already satisfied: pyyaml==5.1.2 in /usr/local/lib/python3.7/dist-packages (from automatminer) (5.1.2)\n",
            "Requirement already satisfied: requests>=2.20.0 in /usr/local/lib/python3.7/dist-packages (from matminer==0.6.2->automatminer) (2.27.1)\n",
            "Requirement already satisfied: monty>=3.0.1 in /usr/local/lib/python3.7/dist-packages (from matminer==0.6.2->automatminer) (2021.12.1)\n",
            "Requirement already satisfied: sympy>=1.1.1 in /usr/local/lib/python3.7/dist-packages (from matminer==0.6.2->automatminer) (1.9)\n",
            "Requirement already satisfied: pymongo>=3.6.1 in /usr/local/lib/python3.7/dist-packages (from matminer==0.6.2->automatminer) (4.0.1)\n",
            "Requirement already satisfied: pint>=0.8.1 in /usr/local/lib/python3.7/dist-packages (from matminer==0.6.2->automatminer) (0.18)\n",
            "Requirement already satisfied: future>=0.16.0 in /usr/local/lib/python3.7/dist-packages (from matminer==0.6.2->automatminer) (0.18.2)\n",
            "Requirement already satisfied: six>=1.11.0 in /usr/local/lib/python3.7/dist-packages (from matminer==0.6.2->automatminer) (1.16.0)\n",
            "Requirement already satisfied: tqdm>=4.23.1 in /usr/local/lib/python3.7/dist-packages (from matminer==0.6.2->automatminer) (4.62.3)\n",
            "Requirement already satisfied: pandas>=0.23.4 in /usr/local/lib/python3.7/dist-packages (from matminer==0.6.2->automatminer) (1.3.5)\n",
            "Requirement already satisfied: numpy>=1.17.2 in /usr/local/lib/python3.7/dist-packages (from matminer==0.6.2->automatminer) (1.21.5)\n",
            "Requirement already satisfied: plotly>=3.2.1 in /usr/local/lib/python3.7/dist-packages (from matminer==0.6.2->automatminer) (5.5.0)\n",
            "Requirement already satisfied: ruamel.yaml>=0.15.6 in /usr/local/lib/python3.7/dist-packages (from pymatgen==2020.01.28->automatminer) (0.17.20)\n",
            "Requirement already satisfied: spglib>=1.9.9.44 in /usr/local/lib/python3.7/dist-packages (from pymatgen==2020.01.28->automatminer) (1.16.3)\n",
            "Requirement already satisfied: networkx>=2.2 in /usr/local/lib/python3.7/dist-packages (from pymatgen==2020.01.28->automatminer) (2.6.3)\n",
            "Requirement already satisfied: tabulate in /usr/local/lib/python3.7/dist-packages (from pymatgen==2020.01.28->automatminer) (0.8.9)\n",
            "Requirement already satisfied: scipy>=1.0.1 in /usr/local/lib/python3.7/dist-packages (from pymatgen==2020.01.28->automatminer) (1.7.3)\n",
            "Requirement already satisfied: palettable>=3.1.1 in /usr/local/lib/python3.7/dist-packages (from pymatgen==2020.01.28->automatminer) (3.3.0)\n",
            "Requirement already satisfied: pydispatcher>=2.0.5 in /usr/local/lib/python3.7/dist-packages (from pymatgen==2020.01.28->automatminer) (2.0.5)\n",
            "Requirement already satisfied: matplotlib>=1.5 in /usr/local/lib/python3.7/dist-packages (from pymatgen==2020.01.28->automatminer) (3.2.2)\n",
            "Requirement already satisfied: joblib>=0.11 in /usr/local/lib/python3.7/dist-packages (from scikit-learn==0.22.2->automatminer) (1.1.0)\n",
            "Requirement already satisfied: update-checker>=0.16 in /usr/local/lib/python3.7/dist-packages (from tpot==0.11.0->automatminer) (0.18.0)\n",
            "Requirement already satisfied: stopit>=1.1.1 in /usr/local/lib/python3.7/dist-packages (from tpot==0.11.0->automatminer) (1.1.2)\n",
            "Requirement already satisfied: deap>=1.2 in /usr/local/lib/python3.7/dist-packages (from tpot==0.11.0->automatminer) (1.3.1)\n",
            "Requirement already satisfied: python-dateutil>=2.1 in /usr/local/lib/python3.7/dist-packages (from matplotlib>=1.5->pymatgen==2020.01.28->automatminer) (2.8.2)\n",
            "Requirement already satisfied: pyparsing!=2.0.4,!=2.1.2,!=2.1.6,>=2.0.1 in /usr/local/lib/python3.7/dist-packages (from matplotlib>=1.5->pymatgen==2020.01.28->automatminer) (3.0.6)\n",
            "Requirement already satisfied: cycler>=0.10 in /usr/local/lib/python3.7/dist-packages (from matplotlib>=1.5->pymatgen==2020.01.28->automatminer) (0.11.0)\n",
            "Requirement already satisfied: kiwisolver>=1.0.1 in /usr/local/lib/python3.7/dist-packages (from matplotlib>=1.5->pymatgen==2020.01.28->automatminer) (1.3.2)\n",
            "Requirement already satisfied: pytz>=2017.3 in /usr/local/lib/python3.7/dist-packages (from pandas>=0.23.4->matminer==0.6.2->automatminer) (2018.9)\n",
            "Requirement already satisfied: packaging in /usr/local/lib/python3.7/dist-packages (from pint>=0.8.1->matminer==0.6.2->automatminer) (21.3)\n",
            "Requirement already satisfied: importlib-metadata in /usr/local/lib/python3.7/dist-packages (from pint>=0.8.1->matminer==0.6.2->automatminer) (4.10.0)\n",
            "Requirement already satisfied: tenacity>=6.2.0 in /usr/local/lib/python3.7/dist-packages (from plotly>=3.2.1->matminer==0.6.2->automatminer) (8.0.1)\n",
            "Requirement already satisfied: urllib3<1.27,>=1.21.1 in /usr/local/lib/python3.7/dist-packages (from requests>=2.20.0->matminer==0.6.2->automatminer) (1.24.3)\n",
            "Requirement already satisfied: certifi>=2017.4.17 in /usr/local/lib/python3.7/dist-packages (from requests>=2.20.0->matminer==0.6.2->automatminer) (2021.10.8)\n",
            "Requirement already satisfied: idna<4,>=2.5 in /usr/local/lib/python3.7/dist-packages (from requests>=2.20.0->matminer==0.6.2->automatminer) (2.10)\n",
            "Requirement already satisfied: charset-normalizer~=2.0.0 in /usr/local/lib/python3.7/dist-packages (from requests>=2.20.0->matminer==0.6.2->automatminer) (2.0.10)\n",
            "Requirement already satisfied: ruamel.yaml.clib>=0.2.6 in /usr/local/lib/python3.7/dist-packages (from ruamel.yaml>=0.15.6->pymatgen==2020.01.28->automatminer) (0.2.6)\n",
            "Requirement already satisfied: mpmath>=0.19 in /usr/local/lib/python3.7/dist-packages (from sympy>=1.1.1->matminer==0.6.2->automatminer) (1.2.1)\n",
            "Requirement already satisfied: typing-extensions>=3.6.4 in /usr/local/lib/python3.7/dist-packages (from importlib-metadata->pint>=0.8.1->matminer==0.6.2->automatminer) (3.10.0.2)\n",
            "Requirement already satisfied: zipp>=0.5 in /usr/local/lib/python3.7/dist-packages (from importlib-metadata->pint>=0.8.1->matminer==0.6.2->automatminer) (3.7.0)\n"
          ]
        }
      ],
      "source": [
        "!pip install matminer \n",
        "!pip install automatminer "
      ]
    },
    {
      "cell_type": "markdown",
      "metadata": {
        "id": "xu-OTaVhE3_E"
      },
      "source": [
        "Import essential libraries"
      ]
    },
    {
      "cell_type": "code",
      "source": [
        "import os\n",
        "import pandas as pd\n",
        "import numpy as np\n",
        "from itertools import combinations\n",
        "from sklearn.linear_model import Lasso\n",
        "from matminer.featurizers.function import FunctionFeaturizer\n",
        "#from automatminer import DataCleaner"
      ],
      "metadata": {
        "colab": {
          "base_uri": "https://localhost:8080/"
        },
        "id": "6ykyEIU9hRJv",
        "outputId": "33623a21-6a13-4284-d984-39f4424b5a2f"
      },
      "execution_count": 2,
      "outputs": [
        {
          "output_type": "stream",
          "name": "stderr",
          "text": [
            "/usr/local/lib/python3.7/dist-packages/distributed/config.py:20: YAMLLoadWarning: calling yaml.load() without Loader=... is deprecated, as the default Loader is unsafe. Please read https://msg.pyyaml.org/load for full details.\n",
            "  defaults = yaml.load(f)\n"
          ]
        }
      ]
    },
    {
      "cell_type": "code",
      "source": [
        "#@title Utility Functions\n",
        "def get_data(selected_feature_list,depth_value):\n",
        "    \n",
        "    function_featurizer = FunctionFeaturizer(multi_feature_depth=depth_value,\n",
        "                                             combo_function=np.sum)\n",
        "    function_featurizer.set_n_jobs(4)\n",
        "    function_featurizer=function_featurizer.fit(df_x[selected_feature_list])\n",
        "    df_combined=function_featurizer.featurize_dataframe(df_x[selected_feature_list],\n",
        "                                                        selected_feature_list)\n",
        "\n",
        "    df_combined[target] = df[target]\n",
        "    df_combined=df_combined.replace([np.inf,-np.inf],np.nan)\n",
        "    df_combined=df_combined.dropna(axis=1)\n",
        "    df_combined=df_combined.drop(columns=selected_feature_list,axis=1)\n",
        "    df_combined.to_csv('/content/functionalized_data.csv')\n",
        "\n",
        "    P = df_combined[target].values\n",
        "    df_combined = df_combined.loc[:, df_combined.columns != target]\n",
        "\n",
        "    return P, df_combined\n",
        "    \n",
        "def lasso_fit(lam, P, D, feature_list):\n",
        "    #LASSO\n",
        "    #D_standardized = ss.zscore(D)\n",
        "    lasso =  Lasso(alpha=lam)\n",
        "    lasso.fit(D, P) \n",
        "    coef =  lasso.coef_\n",
        "    \n",
        "    # get strings of selected features\n",
        "    selected_indices = coef.nonzero()[0]\n",
        "    selected_features = [feature_list[i] for i in selected_indices]\n",
        "    \n",
        "    # get RMSE of LASSO model\n",
        "    P_predict = lasso.predict(D)\n",
        "\n",
        "    return coef,selected_features"
      ],
      "metadata": {
        "id": "ddCCplcfhtsu"
      },
      "execution_count": 3,
      "outputs": []
    },
    {
      "cell_type": "markdown",
      "metadata": {
        "id": "3p_b6DyjFIJz"
      },
      "source": [
        "Mount Google Drive"
      ]
    },
    {
      "cell_type": "code",
      "metadata": {
        "colab": {
          "base_uri": "https://localhost:8080/"
        },
        "id": "idXphF4JFMGg",
        "outputId": "5af7d2fd-e605-47ac-80ef-00d6252d1a5a"
      },
      "source": [
        "from google.colab import drive\n",
        "drive.mount('/content/drive')"
      ],
      "execution_count": 4,
      "outputs": [
        {
          "output_type": "stream",
          "name": "stdout",
          "text": [
            "Drive already mounted at /content/drive; to attempt to forcibly remount, call drive.mount(\"/content/drive\", force_remount=True).\n"
          ]
        }
      ]
    },
    {
      "cell_type": "markdown",
      "metadata": {
        "id": "PFsDsIJKXSvm"
      },
      "source": [
        "Read in the Data (.csv files)"
      ]
    },
    {
      "cell_type": "code",
      "source": [
        "!gdown https://drive.google.com/uc?id=19tVrJblX9SXGcp1VyfdBT5cxZor4Sk3Y"
      ],
      "metadata": {
        "colab": {
          "base_uri": "https://localhost:8080/"
        },
        "id": "iqsH9uD8Xf9e",
        "outputId": "42d7ffb7-1ae4-461b-8e79-0dae77ba2bcc"
      },
      "execution_count": 5,
      "outputs": [
        {
          "output_type": "stream",
          "name": "stdout",
          "text": [
            "Downloading...\n",
            "From: https://drive.google.com/uc?id=19tVrJblX9SXGcp1VyfdBT5cxZor4Sk3Y\n",
            "To: /content/final_layer_predict_energy_diff_mod.csv\n",
            "\r  0% 0.00/55.4k [00:00<?, ?B/s]\r100% 55.4k/55.4k [00:00<00:00, 3.71MB/s]\n"
          ]
        }
      ]
    },
    {
      "cell_type": "code",
      "source": [
        "filename = '/content/final_layer_predict_energy_diff_mod.csv'\n",
        "df = pd.read_csv(filename).set_index('Index').sample(n=10,random_state=2)"
      ],
      "metadata": {
        "id": "8byYTqH0YBzd"
      },
      "execution_count": 6,
      "outputs": []
    },
    {
      "cell_type": "code",
      "source": [
        "target   = 'Target'\n",
        "#These features were selected based on the RF model importances\n",
        "selected_feature_list = ['C_B','r_B_prime_site','B_prime__p','B_prime__d','_bar_y_A_dis_bar_',\n",
        "                         'dis_y_A_prime_2','dis_y_A_prime_1','_cell_volume','r_Asite','_cellength_a']\n",
        "df_x = df[selected_feature_list]"
      ],
      "metadata": {
        "id": "IvH2GOzChqrV"
      },
      "execution_count": 7,
      "outputs": []
    },
    {
      "cell_type": "code",
      "source": [
        "#%cd /content"
      ],
      "metadata": {
        "id": "mVu0KDzuqudk"
      },
      "execution_count": 8,
      "outputs": []
    },
    {
      "cell_type": "code",
      "source": [
        "#%rm final_layer_predict_energy_diff_mod.csv"
      ],
      "metadata": {
        "id": "WJ19amdeqwSw"
      },
      "execution_count": 9,
      "outputs": []
    },
    {
      "cell_type": "markdown",
      "source": [
        "Generate functionalized features.\n",
        "\n",
        "Here as a representative case, we only show an example with feature depth of 2. However, we have utilized additional feautre depth for generating results as reported in the referred manuscript."
      ],
      "metadata": {
        "id": "O0yi2P__cLKp"
      }
    },
    {
      "cell_type": "code",
      "source": [
        "#may take a few minutes to run\n",
        "functionalized_csv ='/content/functionalized_data.csv' \n",
        "if os.path.exists(functionalized_csv):\n",
        "    print(\"loading functionalized data...\")\n",
        "    df_D = pd.read_csv(functionalized_csv).set_index('Index')\n",
        "    P = df_D[target]\n",
        "    df_D = df_D.drop(columns=target,axis=1)\n",
        "    D = df_D.loc[:, df_D.columns != target].values\n",
        "    features_list = df_D.columns.to_list()\n",
        "else: \n",
        "    print('generating functionalized data...')\n",
        "    P, df_D = get_data(selected_feature_list,2)\n",
        "    features_list = df_D.columns.to_list()\n",
        "    D = df_D.values"
      ],
      "metadata": {
        "id": "cyrCMQxvh0t1",
        "colab": {
          "base_uri": "https://localhost:8080/"
        },
        "outputId": "5e852fb7-3303-41c2-86af-9ca4bb29c82a"
      },
      "execution_count": 10,
      "outputs": [
        {
          "output_type": "stream",
          "name": "stdout",
          "text": [
            "generating functionalized data...\n"
          ]
        },
        {
          "output_type": "stream",
          "name": "stderr",
          "text": [
            "FunctionFeaturizer: 100%|██████████| 10/10 [01:24<00:00,  8.49s/it]\n"
          ]
        }
      ]
    },
    {
      "cell_type": "markdown",
      "source": [
        "Perform LASSO regression.\n",
        "\n",
        "This is a representative case to show how we can utilize it. \n",
        "Convergent results are used and reported in the related manuscript."
      ],
      "metadata": {
        "id": "SJC5Vwh4cOb0"
      }
    },
    {
      "cell_type": "code",
      "source": [
        "alpha = 0.2\n",
        "coef, selected_features = lasso_fit(alpha, P, D, features_list)"
      ],
      "metadata": {
        "id": "GZU7EfuEiL1L",
        "colab": {
          "base_uri": "https://localhost:8080/"
        },
        "outputId": "98f4c042-561c-4687-8311-3532ee9a06bd"
      },
      "execution_count": 11,
      "outputs": [
        {
          "output_type": "stream",
          "name": "stderr",
          "text": [
            "/usr/local/lib/python3.7/dist-packages/sklearn/linear_model/_coordinate_descent.py:476: ConvergenceWarning: Objective did not converge. You might want to increase the number of iterations. Duality gap: 5759.343126099394, tolerance: 224.54909655084006\n",
            "  positive)\n"
          ]
        }
      ]
    },
    {
      "cell_type": "code",
      "source": [
        "print(\"alpha: %.3f\\t dimension of descriptor: %s\" \n",
        "      %(alpha, len(selected_features)))\n",
        "lasso_features=pd.DataFrame({'features':np.array(selected_features), \n",
        "                             'abs(nonzero_coefs_LASSO)': np.abs(coef[coef.nonzero()])}).sort_values(by='abs(nonzero_coefs_LASSO)',\n",
        "                            ascending=False)\n",
        "print(lasso_features.head(n=10))\n",
        "lasso_features.to_csv('lasso_equations.csv')"
      ],
      "metadata": {
        "id": "eK1qPSo6iSnY",
        "colab": {
          "base_uri": "https://localhost:8080/"
        },
        "outputId": "1ce6494c-4842-4284-fee6-00eb816bd3ac"
      },
      "execution_count": 13,
      "outputs": [
        {
          "output_type": "stream",
          "name": "stdout",
          "text": [
            "alpha: 0.200\t dimension of descriptor: 1704\n",
            "                                       features  abs(nonzero_coefs_LASSO)\n",
            "2                          r_B_prime_site**(-3)                111.269623\n",
            "1432  sqrt(_cell_volume) + log(dis_y_A_prime_2)                 85.272079\n",
            "1254    log(_bar_y_A_dis_bar_) + 1/_cell_volume                 81.445326\n",
            "745           1/_cell_volume + B_prime__p**(-2)                 53.839470\n",
            "1431      log(dis_y_A_prime_2) + 1/_cell_volume                 52.533048\n",
            "1063               B_prime__d + _cellength_a**2                 50.742101\n",
            "12                       log(_bar_y_A_dis_bar_)                 48.611888\n",
            "0                                        C_B**2                 45.633063\n",
            "1290           r_Asite + log(_bar_y_A_dis_bar_)                 36.683446\n",
            "25                   C_B + r_B_prime_site**(-3)                 36.571798\n"
          ]
        }
      ]
    }
  ]
}