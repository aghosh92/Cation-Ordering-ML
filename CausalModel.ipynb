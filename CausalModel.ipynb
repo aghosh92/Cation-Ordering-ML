{
  "nbformat": 4,
  "nbformat_minor": 0,
  "metadata": {
    "colab": {
      "name": "CausalModel.ipynb",
      "provenance": [],
      "collapsed_sections": [],
      "include_colab_link": true
    },
    "kernelspec": {
      "name": "python3",
      "display_name": "Python 3"
    },
    "language_info": {
      "name": "python"
    }
  },
  "cells": [
    {
      "cell_type": "markdown",
      "metadata": {
        "id": "view-in-github",
        "colab_type": "text"
      },
      "source": [
        "<a href=\"https://colab.research.google.com/github/aghosh92/Cation-Ordering-ML/blob/main/CausalModel.ipynb\" target=\"_parent\"><img src=\"https://colab.research.google.com/assets/colab-badge.svg\" alt=\"Open In Colab\"/></a>"
      ]
    },
    {
      "cell_type": "markdown",
      "source": [
        "This notebook has been prepared by Ayana Ghosh and Dennis P. Trujillo.\n",
        "\n",
        "Email: research.aghosh@gmail.com\n",
        "\n",
        "It shows the following:\n",
        "\n",
        "1. How causal networks can be constructed using the important features to investigate structure-property relationships.\n",
        "\n",
        "Link to all datasets: https://doi.org/10.5281/zenodo.6570994"
      ],
      "metadata": {
        "id": "krP27-7iO_jZ"
      }
    },
    {
      "cell_type": "markdown",
      "source": [
        "Install packages"
      ],
      "metadata": {
        "id": "eK7dwA6_hYh6"
      }
    },
    {
      "cell_type": "code",
      "source": [
        "!pip install lingam"
      ],
      "metadata": {
        "colab": {
          "base_uri": "https://localhost:8080/"
        },
        "id": "Qo2_aQtehdKh",
        "outputId": "556727a5-297f-4b19-99d1-9ee15bf933f0"
      },
      "execution_count": 16,
      "outputs": [
        {
          "output_type": "stream",
          "name": "stdout",
          "text": [
            "Collecting lingam\n",
            "  Downloading lingam-1.5.5-py3-none-any.whl (67 kB)\n",
            "\u001b[?25l\r\u001b[K     |████▉                           | 10 kB 19.7 MB/s eta 0:00:01\r\u001b[K     |█████████▊                      | 20 kB 22.3 MB/s eta 0:00:01\r\u001b[K     |██████████████▋                 | 30 kB 25.2 MB/s eta 0:00:01\r\u001b[K     |███████████████████▌            | 40 kB 16.2 MB/s eta 0:00:01\r\u001b[K     |████████████████████████▍       | 51 kB 15.5 MB/s eta 0:00:01\r\u001b[K     |█████████████████████████████▎  | 61 kB 17.7 MB/s eta 0:00:01\r\u001b[K     |████████████████████████████████| 67 kB 3.9 MB/s \n",
            "\u001b[?25hRequirement already satisfied: statsmodels in /usr/local/lib/python3.7/dist-packages (from lingam) (0.10.2)\n",
            "Requirement already satisfied: numpy in /usr/local/lib/python3.7/dist-packages (from lingam) (1.21.6)\n",
            "Requirement already satisfied: graphviz in /usr/local/lib/python3.7/dist-packages (from lingam) (0.10.1)\n",
            "Requirement already satisfied: scikit-learn in /usr/local/lib/python3.7/dist-packages (from lingam) (1.0.2)\n",
            "Requirement already satisfied: scipy in /usr/local/lib/python3.7/dist-packages (from lingam) (1.4.1)\n",
            "Requirement already satisfied: threadpoolctl>=2.0.0 in /usr/local/lib/python3.7/dist-packages (from scikit-learn->lingam) (3.1.0)\n",
            "Requirement already satisfied: joblib>=0.11 in /usr/local/lib/python3.7/dist-packages (from scikit-learn->lingam) (1.1.0)\n",
            "Requirement already satisfied: patsy>=0.4.0 in /usr/local/lib/python3.7/dist-packages (from statsmodels->lingam) (0.5.2)\n",
            "Requirement already satisfied: pandas>=0.19 in /usr/local/lib/python3.7/dist-packages (from statsmodels->lingam) (1.3.5)\n",
            "Requirement already satisfied: python-dateutil>=2.7.3 in /usr/local/lib/python3.7/dist-packages (from pandas>=0.19->statsmodels->lingam) (2.8.2)\n",
            "Requirement already satisfied: pytz>=2017.3 in /usr/local/lib/python3.7/dist-packages (from pandas>=0.19->statsmodels->lingam) (2022.1)\n",
            "Requirement already satisfied: six in /usr/local/lib/python3.7/dist-packages (from patsy>=0.4.0->statsmodels->lingam) (1.15.0)\n",
            "Installing collected packages: lingam\n",
            "Successfully installed lingam-1.5.5\n"
          ]
        }
      ]
    },
    {
      "cell_type": "markdown",
      "source": [
        "Import essential libraries"
      ],
      "metadata": {
        "id": "Ivf4ex6tge_W"
      }
    },
    {
      "cell_type": "code",
      "metadata": {
        "id": "pUWf4M4LGfQz",
        "colab": {
          "base_uri": "https://localhost:8080/"
        },
        "outputId": "0af3081c-7a09-45c2-c312-e012bd46856f"
      },
      "source": [
        "import pandas as pd\n",
        "import numpy as np\n",
        "import plotly.express as px\n",
        "from pandas import json_normalize\n",
        "import matplotlib.pyplot as plt \n",
        "import seaborn as sns\n",
        "from sklearn.preprocessing import LabelEncoder\n",
        "from sklearn.ensemble import ExtraTreesClassifier\n",
        "import json\n",
        "from sklearn import preprocessing\n",
        "from sklearn.model_selection import train_test_split \n",
        "from sklearn.ensemble import ExtraTreesClassifier\n",
        "from IPython.display import Image\n",
        "from sklearn.tree import export_graphviz\n",
        "from subprocess import call\n",
        "from sklearn.model_selection import RandomizedSearchCV, GridSearchCV\n",
        "from sklearn.metrics import balanced_accuracy_score, confusion_matrix, classification_report\n",
        "import graphviz\n",
        "import lingam\n",
        "from lingam.utils import make_prior_knowledge\n",
        "from sklearn.linear_model import LogisticRegression"
      ],
      "execution_count": 23,
      "outputs": [
        {
          "output_type": "stream",
          "name": "stderr",
          "text": [
            "/usr/local/lib/python3.7/dist-packages/statsmodels/tools/_testing.py:19: FutureWarning: pandas.util.testing is deprecated. Use the functions in the public API at pandas.testing instead.\n",
            "  import pandas.util.testing as tm\n"
          ]
        }
      ]
    },
    {
      "cell_type": "markdown",
      "source": [
        "Read in dataset"
      ],
      "metadata": {
        "id": "7zEDQB65Yv-e"
      }
    },
    {
      "cell_type": "code",
      "source": [
        "data = pd.read_csv(\"https://zenodo.org/record/6570994/files/Model_III.csv?download=1\", on_bad_lines='skip')"
      ],
      "metadata": {
        "id": "zEyuMRaaYyb0"
      },
      "execution_count": 2,
      "outputs": []
    },
    {
      "cell_type": "code",
      "metadata": {
        "id": "-5ARrxsfghON"
      },
      "source": [
        "#dropping few columns from dataframe\n",
        "df = data.drop(columns=[\"A site\",\"A'site\",\"B site\",\"B'site\",\"space_group_LS\",\"space_group_HS\",\"Space_group_No_HS\",\"Space_group_No_LS\"], axis=1)"
      ],
      "execution_count": 3,
      "outputs": []
    },
    {
      "cell_type": "code",
      "metadata": {
        "colab": {
          "base_uri": "https://localhost:8080/",
          "height": 505
        },
        "id": "icGIl2uzIUEr",
        "outputId": "9a733be4-2cb0-4ffc-d0d4-fc8485598c8c"
      },
      "source": [
        "df"
      ],
      "execution_count": 4,
      "outputs": [
        {
          "output_type": "execute_result",
          "data": {
            "text/plain": [
              "        Index Compound name  C_A  C_A'  Cn_A  Cn_A'  C_B  C_B'  Cn_B  Cn_B'  \\\n",
              "0      Comp_0  BaCeMnNiO6_C    2     4     8      8    4     2     6      6   \n",
              "1      Comp_1  BaCeMnNiO6_L    2     4     8      8    4     2     6      6   \n",
              "2      Comp_2  BaCeMnNiO6_R    2     4     8      8    4     2     6      6   \n",
              "3      Comp_3  BaHfMnNiO6_L    2     4     8      8    4     2     6      6   \n",
              "4      Comp_4  BaHfMnNiO6_L    2     4     8      8    4     2     6      6   \n",
              "..        ...           ...  ...   ...   ...    ...  ...   ...   ...    ...   \n",
              "161  Comp_161  SrTmMnNiO6_C    2     3     8      8    4     3     6      6   \n",
              "162  Comp_162  TmSnMnNiO6_C    3     2     8      8    4     3     6      6   \n",
              "163  Comp_163  ZnCeMnNiO6_C    2     4     8      8    4     2     6      6   \n",
              "164  Comp_164  ZnCeMnNiO6_R    2     4     8      8    4     2     6      6   \n",
              "165  Comp_165  ZnSnMnNiO6_C    2     4     8      8    4     2     6      6   \n",
              "\n",
              "     ...  tilt_angle  rot_angle     Q_R-     Q_R+      Q_T  Q_AFE_(A)  \\\n",
              "0    ...   13.669744   4.602608  0.00487  0.25501  0.00000   1.185140   \n",
              "1    ...   10.265804  15.887108  0.00000  0.82939  0.71380   0.726945   \n",
              "2    ...    9.403666   7.278861  0.00000  0.66970  1.33840   0.369650   \n",
              "3    ...    6.656265  32.342189  0.00000  1.49716  0.87948   0.414095   \n",
              "4    ...    6.660802  32.332215  0.00000  1.49716  0.87948   0.414095   \n",
              "..   ...         ...        ...      ...      ...      ...        ...   \n",
              "161  ...   16.305255  19.354497  0.05339  0.89295  0.00000   1.532240   \n",
              "162  ...   23.753058  27.685669  0.23645  1.47963  0.00000   2.431510   \n",
              "163  ...   17.123757  31.753644  0.02056  1.49875  0.00000   1.811400   \n",
              "164  ...   20.041643  26.012164  0.00000  1.35200  1.81900   5.623400   \n",
              "165  ...   22.739708  27.298905  0.06940  1.41355  0.00000   2.403750   \n",
              "\n",
              "     Q_AFE_(O)   CD_(2D)  CD_(3D)  target_label  \n",
              "0      0.00000  0.254790   0.0000             0  \n",
              "1      0.80275  0.005930   0.0000             1  \n",
              "2      0.00000  0.000000   0.1274             2  \n",
              "3      1.16537  0.075880   0.0000             1  \n",
              "4      1.16537  0.075880   0.0000             1  \n",
              "..         ...       ...      ...           ...  \n",
              "161    0.00000  0.186845   0.0000             0  \n",
              "162    0.00000  0.275030   0.0000             0  \n",
              "163    0.00000  0.170145   0.0000             0  \n",
              "164    0.00000  0.000000   0.1320             2  \n",
              "165    0.00000  0.199195   0.0000             0  \n",
              "\n",
              "[166 rows x 68 columns]"
            ],
            "text/html": [
              "\n",
              "  <div id=\"df-9c68f225-4344-4354-a6d3-b91a76574798\">\n",
              "    <div class=\"colab-df-container\">\n",
              "      <div>\n",
              "<style scoped>\n",
              "    .dataframe tbody tr th:only-of-type {\n",
              "        vertical-align: middle;\n",
              "    }\n",
              "\n",
              "    .dataframe tbody tr th {\n",
              "        vertical-align: top;\n",
              "    }\n",
              "\n",
              "    .dataframe thead th {\n",
              "        text-align: right;\n",
              "    }\n",
              "</style>\n",
              "<table border=\"1\" class=\"dataframe\">\n",
              "  <thead>\n",
              "    <tr style=\"text-align: right;\">\n",
              "      <th></th>\n",
              "      <th>Index</th>\n",
              "      <th>Compound name</th>\n",
              "      <th>C_A</th>\n",
              "      <th>C_A'</th>\n",
              "      <th>Cn_A</th>\n",
              "      <th>Cn_A'</th>\n",
              "      <th>C_B</th>\n",
              "      <th>C_B'</th>\n",
              "      <th>Cn_B</th>\n",
              "      <th>Cn_B'</th>\n",
              "      <th>...</th>\n",
              "      <th>tilt_angle</th>\n",
              "      <th>rot_angle</th>\n",
              "      <th>Q_R-</th>\n",
              "      <th>Q_R+</th>\n",
              "      <th>Q_T</th>\n",
              "      <th>Q_AFE_(A)</th>\n",
              "      <th>Q_AFE_(O)</th>\n",
              "      <th>CD_(2D)</th>\n",
              "      <th>CD_(3D)</th>\n",
              "      <th>target_label</th>\n",
              "    </tr>\n",
              "  </thead>\n",
              "  <tbody>\n",
              "    <tr>\n",
              "      <th>0</th>\n",
              "      <td>Comp_0</td>\n",
              "      <td>BaCeMnNiO6_C</td>\n",
              "      <td>2</td>\n",
              "      <td>4</td>\n",
              "      <td>8</td>\n",
              "      <td>8</td>\n",
              "      <td>4</td>\n",
              "      <td>2</td>\n",
              "      <td>6</td>\n",
              "      <td>6</td>\n",
              "      <td>...</td>\n",
              "      <td>13.669744</td>\n",
              "      <td>4.602608</td>\n",
              "      <td>0.00487</td>\n",
              "      <td>0.25501</td>\n",
              "      <td>0.00000</td>\n",
              "      <td>1.185140</td>\n",
              "      <td>0.00000</td>\n",
              "      <td>0.254790</td>\n",
              "      <td>0.0000</td>\n",
              "      <td>0</td>\n",
              "    </tr>\n",
              "    <tr>\n",
              "      <th>1</th>\n",
              "      <td>Comp_1</td>\n",
              "      <td>BaCeMnNiO6_L</td>\n",
              "      <td>2</td>\n",
              "      <td>4</td>\n",
              "      <td>8</td>\n",
              "      <td>8</td>\n",
              "      <td>4</td>\n",
              "      <td>2</td>\n",
              "      <td>6</td>\n",
              "      <td>6</td>\n",
              "      <td>...</td>\n",
              "      <td>10.265804</td>\n",
              "      <td>15.887108</td>\n",
              "      <td>0.00000</td>\n",
              "      <td>0.82939</td>\n",
              "      <td>0.71380</td>\n",
              "      <td>0.726945</td>\n",
              "      <td>0.80275</td>\n",
              "      <td>0.005930</td>\n",
              "      <td>0.0000</td>\n",
              "      <td>1</td>\n",
              "    </tr>\n",
              "    <tr>\n",
              "      <th>2</th>\n",
              "      <td>Comp_2</td>\n",
              "      <td>BaCeMnNiO6_R</td>\n",
              "      <td>2</td>\n",
              "      <td>4</td>\n",
              "      <td>8</td>\n",
              "      <td>8</td>\n",
              "      <td>4</td>\n",
              "      <td>2</td>\n",
              "      <td>6</td>\n",
              "      <td>6</td>\n",
              "      <td>...</td>\n",
              "      <td>9.403666</td>\n",
              "      <td>7.278861</td>\n",
              "      <td>0.00000</td>\n",
              "      <td>0.66970</td>\n",
              "      <td>1.33840</td>\n",
              "      <td>0.369650</td>\n",
              "      <td>0.00000</td>\n",
              "      <td>0.000000</td>\n",
              "      <td>0.1274</td>\n",
              "      <td>2</td>\n",
              "    </tr>\n",
              "    <tr>\n",
              "      <th>3</th>\n",
              "      <td>Comp_3</td>\n",
              "      <td>BaHfMnNiO6_L</td>\n",
              "      <td>2</td>\n",
              "      <td>4</td>\n",
              "      <td>8</td>\n",
              "      <td>8</td>\n",
              "      <td>4</td>\n",
              "      <td>2</td>\n",
              "      <td>6</td>\n",
              "      <td>6</td>\n",
              "      <td>...</td>\n",
              "      <td>6.656265</td>\n",
              "      <td>32.342189</td>\n",
              "      <td>0.00000</td>\n",
              "      <td>1.49716</td>\n",
              "      <td>0.87948</td>\n",
              "      <td>0.414095</td>\n",
              "      <td>1.16537</td>\n",
              "      <td>0.075880</td>\n",
              "      <td>0.0000</td>\n",
              "      <td>1</td>\n",
              "    </tr>\n",
              "    <tr>\n",
              "      <th>4</th>\n",
              "      <td>Comp_4</td>\n",
              "      <td>BaHfMnNiO6_L</td>\n",
              "      <td>2</td>\n",
              "      <td>4</td>\n",
              "      <td>8</td>\n",
              "      <td>8</td>\n",
              "      <td>4</td>\n",
              "      <td>2</td>\n",
              "      <td>6</td>\n",
              "      <td>6</td>\n",
              "      <td>...</td>\n",
              "      <td>6.660802</td>\n",
              "      <td>32.332215</td>\n",
              "      <td>0.00000</td>\n",
              "      <td>1.49716</td>\n",
              "      <td>0.87948</td>\n",
              "      <td>0.414095</td>\n",
              "      <td>1.16537</td>\n",
              "      <td>0.075880</td>\n",
              "      <td>0.0000</td>\n",
              "      <td>1</td>\n",
              "    </tr>\n",
              "    <tr>\n",
              "      <th>...</th>\n",
              "      <td>...</td>\n",
              "      <td>...</td>\n",
              "      <td>...</td>\n",
              "      <td>...</td>\n",
              "      <td>...</td>\n",
              "      <td>...</td>\n",
              "      <td>...</td>\n",
              "      <td>...</td>\n",
              "      <td>...</td>\n",
              "      <td>...</td>\n",
              "      <td>...</td>\n",
              "      <td>...</td>\n",
              "      <td>...</td>\n",
              "      <td>...</td>\n",
              "      <td>...</td>\n",
              "      <td>...</td>\n",
              "      <td>...</td>\n",
              "      <td>...</td>\n",
              "      <td>...</td>\n",
              "      <td>...</td>\n",
              "      <td>...</td>\n",
              "    </tr>\n",
              "    <tr>\n",
              "      <th>161</th>\n",
              "      <td>Comp_161</td>\n",
              "      <td>SrTmMnNiO6_C</td>\n",
              "      <td>2</td>\n",
              "      <td>3</td>\n",
              "      <td>8</td>\n",
              "      <td>8</td>\n",
              "      <td>4</td>\n",
              "      <td>3</td>\n",
              "      <td>6</td>\n",
              "      <td>6</td>\n",
              "      <td>...</td>\n",
              "      <td>16.305255</td>\n",
              "      <td>19.354497</td>\n",
              "      <td>0.05339</td>\n",
              "      <td>0.89295</td>\n",
              "      <td>0.00000</td>\n",
              "      <td>1.532240</td>\n",
              "      <td>0.00000</td>\n",
              "      <td>0.186845</td>\n",
              "      <td>0.0000</td>\n",
              "      <td>0</td>\n",
              "    </tr>\n",
              "    <tr>\n",
              "      <th>162</th>\n",
              "      <td>Comp_162</td>\n",
              "      <td>TmSnMnNiO6_C</td>\n",
              "      <td>3</td>\n",
              "      <td>2</td>\n",
              "      <td>8</td>\n",
              "      <td>8</td>\n",
              "      <td>4</td>\n",
              "      <td>3</td>\n",
              "      <td>6</td>\n",
              "      <td>6</td>\n",
              "      <td>...</td>\n",
              "      <td>23.753058</td>\n",
              "      <td>27.685669</td>\n",
              "      <td>0.23645</td>\n",
              "      <td>1.47963</td>\n",
              "      <td>0.00000</td>\n",
              "      <td>2.431510</td>\n",
              "      <td>0.00000</td>\n",
              "      <td>0.275030</td>\n",
              "      <td>0.0000</td>\n",
              "      <td>0</td>\n",
              "    </tr>\n",
              "    <tr>\n",
              "      <th>163</th>\n",
              "      <td>Comp_163</td>\n",
              "      <td>ZnCeMnNiO6_C</td>\n",
              "      <td>2</td>\n",
              "      <td>4</td>\n",
              "      <td>8</td>\n",
              "      <td>8</td>\n",
              "      <td>4</td>\n",
              "      <td>2</td>\n",
              "      <td>6</td>\n",
              "      <td>6</td>\n",
              "      <td>...</td>\n",
              "      <td>17.123757</td>\n",
              "      <td>31.753644</td>\n",
              "      <td>0.02056</td>\n",
              "      <td>1.49875</td>\n",
              "      <td>0.00000</td>\n",
              "      <td>1.811400</td>\n",
              "      <td>0.00000</td>\n",
              "      <td>0.170145</td>\n",
              "      <td>0.0000</td>\n",
              "      <td>0</td>\n",
              "    </tr>\n",
              "    <tr>\n",
              "      <th>164</th>\n",
              "      <td>Comp_164</td>\n",
              "      <td>ZnCeMnNiO6_R</td>\n",
              "      <td>2</td>\n",
              "      <td>4</td>\n",
              "      <td>8</td>\n",
              "      <td>8</td>\n",
              "      <td>4</td>\n",
              "      <td>2</td>\n",
              "      <td>6</td>\n",
              "      <td>6</td>\n",
              "      <td>...</td>\n",
              "      <td>20.041643</td>\n",
              "      <td>26.012164</td>\n",
              "      <td>0.00000</td>\n",
              "      <td>1.35200</td>\n",
              "      <td>1.81900</td>\n",
              "      <td>5.623400</td>\n",
              "      <td>0.00000</td>\n",
              "      <td>0.000000</td>\n",
              "      <td>0.1320</td>\n",
              "      <td>2</td>\n",
              "    </tr>\n",
              "    <tr>\n",
              "      <th>165</th>\n",
              "      <td>Comp_165</td>\n",
              "      <td>ZnSnMnNiO6_C</td>\n",
              "      <td>2</td>\n",
              "      <td>4</td>\n",
              "      <td>8</td>\n",
              "      <td>8</td>\n",
              "      <td>4</td>\n",
              "      <td>2</td>\n",
              "      <td>6</td>\n",
              "      <td>6</td>\n",
              "      <td>...</td>\n",
              "      <td>22.739708</td>\n",
              "      <td>27.298905</td>\n",
              "      <td>0.06940</td>\n",
              "      <td>1.41355</td>\n",
              "      <td>0.00000</td>\n",
              "      <td>2.403750</td>\n",
              "      <td>0.00000</td>\n",
              "      <td>0.199195</td>\n",
              "      <td>0.0000</td>\n",
              "      <td>0</td>\n",
              "    </tr>\n",
              "  </tbody>\n",
              "</table>\n",
              "<p>166 rows × 68 columns</p>\n",
              "</div>\n",
              "      <button class=\"colab-df-convert\" onclick=\"convertToInteractive('df-9c68f225-4344-4354-a6d3-b91a76574798')\"\n",
              "              title=\"Convert this dataframe to an interactive table.\"\n",
              "              style=\"display:none;\">\n",
              "        \n",
              "  <svg xmlns=\"http://www.w3.org/2000/svg\" height=\"24px\"viewBox=\"0 0 24 24\"\n",
              "       width=\"24px\">\n",
              "    <path d=\"M0 0h24v24H0V0z\" fill=\"none\"/>\n",
              "    <path d=\"M18.56 5.44l.94 2.06.94-2.06 2.06-.94-2.06-.94-.94-2.06-.94 2.06-2.06.94zm-11 1L8.5 8.5l.94-2.06 2.06-.94-2.06-.94L8.5 2.5l-.94 2.06-2.06.94zm10 10l.94 2.06.94-2.06 2.06-.94-2.06-.94-.94-2.06-.94 2.06-2.06.94z\"/><path d=\"M17.41 7.96l-1.37-1.37c-.4-.4-.92-.59-1.43-.59-.52 0-1.04.2-1.43.59L10.3 9.45l-7.72 7.72c-.78.78-.78 2.05 0 2.83L4 21.41c.39.39.9.59 1.41.59.51 0 1.02-.2 1.41-.59l7.78-7.78 2.81-2.81c.8-.78.8-2.07 0-2.86zM5.41 20L4 18.59l7.72-7.72 1.47 1.35L5.41 20z\"/>\n",
              "  </svg>\n",
              "      </button>\n",
              "      \n",
              "  <style>\n",
              "    .colab-df-container {\n",
              "      display:flex;\n",
              "      flex-wrap:wrap;\n",
              "      gap: 12px;\n",
              "    }\n",
              "\n",
              "    .colab-df-convert {\n",
              "      background-color: #E8F0FE;\n",
              "      border: none;\n",
              "      border-radius: 50%;\n",
              "      cursor: pointer;\n",
              "      display: none;\n",
              "      fill: #1967D2;\n",
              "      height: 32px;\n",
              "      padding: 0 0 0 0;\n",
              "      width: 32px;\n",
              "    }\n",
              "\n",
              "    .colab-df-convert:hover {\n",
              "      background-color: #E2EBFA;\n",
              "      box-shadow: 0px 1px 2px rgba(60, 64, 67, 0.3), 0px 1px 3px 1px rgba(60, 64, 67, 0.15);\n",
              "      fill: #174EA6;\n",
              "    }\n",
              "\n",
              "    [theme=dark] .colab-df-convert {\n",
              "      background-color: #3B4455;\n",
              "      fill: #D2E3FC;\n",
              "    }\n",
              "\n",
              "    [theme=dark] .colab-df-convert:hover {\n",
              "      background-color: #434B5C;\n",
              "      box-shadow: 0px 1px 3px 1px rgba(0, 0, 0, 0.15);\n",
              "      filter: drop-shadow(0px 1px 2px rgba(0, 0, 0, 0.3));\n",
              "      fill: #FFFFFF;\n",
              "    }\n",
              "  </style>\n",
              "\n",
              "      <script>\n",
              "        const buttonEl =\n",
              "          document.querySelector('#df-9c68f225-4344-4354-a6d3-b91a76574798 button.colab-df-convert');\n",
              "        buttonEl.style.display =\n",
              "          google.colab.kernel.accessAllowed ? 'block' : 'none';\n",
              "\n",
              "        async function convertToInteractive(key) {\n",
              "          const element = document.querySelector('#df-9c68f225-4344-4354-a6d3-b91a76574798');\n",
              "          const dataTable =\n",
              "            await google.colab.kernel.invokeFunction('convertToInteractive',\n",
              "                                                     [key], {});\n",
              "          if (!dataTable) return;\n",
              "\n",
              "          const docLinkHtml = 'Like what you see? Visit the ' +\n",
              "            '<a target=\"_blank\" href=https://colab.research.google.com/notebooks/data_table.ipynb>data table notebook</a>'\n",
              "            + ' to learn more about interactive tables.';\n",
              "          element.innerHTML = '';\n",
              "          dataTable['output_type'] = 'display_data';\n",
              "          await google.colab.output.renderOutput(dataTable, element);\n",
              "          const docLink = document.createElement('div');\n",
              "          docLink.innerHTML = docLinkHtml;\n",
              "          element.appendChild(docLink);\n",
              "        }\n",
              "      </script>\n",
              "    </div>\n",
              "  </div>\n",
              "  "
            ]
          },
          "metadata": {},
          "execution_count": 4
        }
      ]
    },
    {
      "cell_type": "code",
      "metadata": {
        "id": "CD3zt31LGAwp"
      },
      "source": [
        "#dropping few columns from dataframe\n",
        "df = data.drop(columns=[\"A site\",\"A'site\",\"B site\",\"B'site\",\"space_group_LS\",\"space_group_HS\",\"Space_group_No_HS\",\"Space_group_No_LS\"], axis=1)"
      ],
      "execution_count": 5,
      "outputs": []
    },
    {
      "cell_type": "markdown",
      "source": [
        "Train & Test Random Forest Classification Models"
      ],
      "metadata": {
        "id": "EclE3gv-RSqb"
      }
    },
    {
      "cell_type": "code",
      "metadata": {
        "id": "rUEtMNRbGfRR"
      },
      "source": [
        "#setting up the X and y for training and test\n",
        "endpoint = 'target_label'\n",
        " \n",
        "X = df.loc[:,df.columns != endpoint]\n",
        "y  = df['target_label'] "
      ],
      "execution_count": 6,
      "outputs": []
    },
    {
      "cell_type": "code",
      "metadata": {
        "id": "uaP9St7UGfRU"
      },
      "source": [
        "#train test split 0.8/0.2\n",
        "X_train_z, X_test_z, y_train, y_test = train_test_split(X, y, test_size=0.2,random_state=42,shuffle=True)"
      ],
      "execution_count": 7,
      "outputs": []
    },
    {
      "cell_type": "code",
      "metadata": {
        "id": "Uy91I-SOSp9J"
      },
      "source": [
        "X_train, X_test = X_train_z.drop(columns=[\"Index\",\"Compound name\"], axis=1),\\\n",
        "                  X_test_z.drop(columns=[\"Index\",\"Compound name\"], axis=1)"
      ],
      "execution_count": 8,
      "outputs": []
    },
    {
      "cell_type": "code",
      "source": [
        "#using same set of hyperparameters from RF model\n",
        "params = {'n_estimators': 19, 'min_samples_split': 2, 'min_samples_leaf': 4, 'max_features': 'sqrt', 'max_depth': 15, 'bootstrap': True}"
      ],
      "metadata": {
        "id": "NIyGNw-2UwLI"
      },
      "execution_count": 9,
      "outputs": []
    },
    {
      "cell_type": "code",
      "execution_count": 10,
      "metadata": {
        "id": "O29RxXZsHKkl"
      },
      "outputs": [],
      "source": [
        "forest = ExtraTreesClassifier(**params)"
      ]
    },
    {
      "cell_type": "code",
      "source": [
        "forest.fit(X_train,y_train)"
      ],
      "metadata": {
        "colab": {
          "base_uri": "https://localhost:8080/"
        },
        "id": "xMSBxx-mhBsb",
        "outputId": "1e885fa0-9078-4728-d6cd-668d90c2b9e4"
      },
      "execution_count": 12,
      "outputs": [
        {
          "output_type": "execute_result",
          "data": {
            "text/plain": [
              "ExtraTreesClassifier(bootstrap=True, max_depth=15, max_features='sqrt',\n",
              "                     min_samples_leaf=4, n_estimators=19)"
            ]
          },
          "metadata": {},
          "execution_count": 12
        }
      ]
    },
    {
      "cell_type": "code",
      "source": [
        "#predict probabilities on training set \n",
        "model_train = forest.predict_proba(X_train)"
      ],
      "metadata": {
        "id": "1Akj7GbtTMRy"
      },
      "execution_count": 13,
      "outputs": []
    },
    {
      "cell_type": "markdown",
      "source": [
        "Feature Importance"
      ],
      "metadata": {
        "id": "jgW_rq_iROCI"
      }
    },
    {
      "cell_type": "code",
      "metadata": {
        "id": "zjKm0hR4WL_h"
      },
      "source": [
        "X = X.drop(columns=[\"Index\",\"Compound name\"], axis=1)"
      ],
      "execution_count": 17,
      "outputs": []
    },
    {
      "cell_type": "code",
      "metadata": {
        "id": "YU5KooYoMLnK"
      },
      "source": [
        "#use best hyperparams and determine feature importance\n",
        "importances = forest.feature_importances_"
      ],
      "execution_count": 19,
      "outputs": []
    },
    {
      "cell_type": "code",
      "metadata": {
        "id": "Rvn-nYnC3sIa"
      },
      "source": [
        "std = np.std([tree.feature_importances_ for tree in forest.estimators_],\n",
        "             axis=0)\n",
        "indices = np.argsort(importances)[::-1]"
      ],
      "execution_count": 20,
      "outputs": []
    },
    {
      "cell_type": "code",
      "source": [
        "#These are the top n most important features...\n",
        "features = X.columns \n",
        "ranked_features=[]\n",
        "importances_feat = []\n",
        "n_features = 20\n",
        "for f in range(n_features):#X.shape[1]):\n",
        "  ranked_features.append(features[indices[f]])\n",
        "  importances_feat.append(importances[indices[f]])"
      ],
      "metadata": {
        "id": "5ZObOs14hzF9"
      },
      "execution_count": 21,
      "outputs": []
    },
    {
      "cell_type": "code",
      "source": [
        "intermediate_dictionary = {'Features':ranked_features, 'Importances':importances_feat}\n",
        "# Convert dictionary to Pandas dataframe\n",
        "feat_df = pd.DataFrame(intermediate_dictionary)"
      ],
      "metadata": {
        "id": "IfVCVYA3hzJa"
      },
      "execution_count": 22,
      "outputs": []
    },
    {
      "cell_type": "markdown",
      "metadata": {
        "id": "wWFXyBl0F7YD"
      },
      "source": [
        "Causal Analysis\n",
        "\n",
        "Here, we show an example how to construct causal networks for classificaiton of Columnar and Layered. \n",
        "These analyses have been conducted for all other types of A-site ordering."
      ]
    },
    {
      "cell_type": "markdown",
      "metadata": {
        "id": "ro3XNjlAT0bn"
      },
      "source": [
        "Columnar and Layered"
      ]
    },
    {
      "cell_type": "code",
      "metadata": {
        "id": "G1zOHmjQF952"
      },
      "source": [
        "#prepare dataframe based on the 10 most important features\n",
        "X_causal = df.filter([feat_df['Features'][0],feat_df['Features'][1],feat_df['Features'][2],\n",
        "                      feat_df['Features'][3],feat_df['Features'][4],feat_df['Features'][5],\n",
        "                      feat_df['Features'][6],feat_df['Features'][7],feat_df['Features'][8],\n",
        "                      feat_df['Features'][9],\"target_label\"],axis=1)"
      ],
      "execution_count": 24,
      "outputs": []
    },
    {
      "cell_type": "code",
      "metadata": {
        "id": "fFB3N5_vXRgh"
      },
      "source": [
        "index_names = X_causal[ X_causal['target_label'] == 2].index"
      ],
      "execution_count": 25,
      "outputs": []
    },
    {
      "cell_type": "code",
      "metadata": {
        "id": "gxbgg6fiWcXV"
      },
      "source": [
        "X_causal.drop(index_names, inplace = True)"
      ],
      "execution_count": 26,
      "outputs": []
    },
    {
      "cell_type": "code",
      "metadata": {
        "id": "8m4h2CNuLUnD"
      },
      "source": [
        "np.random.seed(0)"
      ],
      "execution_count": 27,
      "outputs": []
    },
    {
      "cell_type": "code",
      "metadata": {
        "id": "8umxntZ5LUqr",
        "cellView": "form"
      },
      "source": [
        "#@title Utility function for causal network\n",
        "#utility function\n",
        "def make_graph(adjacency_matrix, labels=None):\n",
        "    idx = np.abs(adjacency_matrix) > 0.01\n",
        "    dirs = np.where(idx)\n",
        "    d = graphviz.Digraph(engine='dot')\n",
        "    names = labels if labels else [f'x{i}' for i in range(len(adjacency_matrix))]\n",
        "    for to, from_, coef in zip(dirs[0], dirs[1], adjacency_matrix[idx]):\n",
        "        d.edge(names[from_], names[to], label=f'{coef:.2f}')\n",
        "    return d"
      ],
      "execution_count": 28,
      "outputs": []
    },
    {
      "cell_type": "code",
      "metadata": {
        "colab": {
          "base_uri": "https://localhost:8080/",
          "height": 1000
        },
        "id": "Iwki-9QcM2RT",
        "outputId": "eb7ee7f5-a72e-497a-8382-936c5bd45ae6"
      },
      "source": [
        "#create DirectLinGAM object\n",
        "np.seterr(invalid=\"ignore\")\n",
        "pk = make_prior_knowledge(\n",
        "    n_variables=len(X_causal.columns),\n",
        "    sink_variables=[10])\n",
        "\n",
        "model = lingam.DirectLiNGAM(prior_knowledge=pk)\n",
        "model.fit(X_causal)\n",
        "labels = [f'{i}. {col}' for i, col in enumerate(X_causal.columns)]\n",
        "make_graph(model.adjacency_matrix_, labels)"
      ],
      "execution_count": 29,
      "outputs": [
        {
          "output_type": "stream",
          "name": "stderr",
          "text": [
            "/usr/local/lib/python3.7/dist-packages/sklearn/linear_model/_base.py:138: FutureWarning: The default of 'normalize' will be set to False in version 1.2 and deprecated in version 1.4.\n",
            "If you wish to scale the data, use Pipeline with a StandardScaler in a preprocessing stage. To reproduce the previous behavior:\n",
            "\n",
            "from sklearn.pipeline import make_pipeline\n",
            "\n",
            "model = make_pipeline(StandardScaler(with_mean=False), LassoLarsIC())\n",
            "\n",
            "If you wish to pass a sample_weight parameter, you need to pass it as a fit parameter to each step of the pipeline as follows:\n",
            "\n",
            "kwargs = {s[0] + '__sample_weight': sample_weight for s in model.steps}\n",
            "model.fit(X, y, **kwargs)\n",
            "\n",
            "Set parameter alpha to: original_alpha * np.sqrt(n_samples). \n",
            "  FutureWarning,\n",
            "/usr/local/lib/python3.7/dist-packages/sklearn/linear_model/_least_angle.py:2238: RuntimeWarning: divide by zero encountered in log\n",
            "  + criterion_factor * degrees_of_freedom\n",
            "/usr/local/lib/python3.7/dist-packages/sklearn/linear_model/_base.py:138: FutureWarning: The default of 'normalize' will be set to False in version 1.2 and deprecated in version 1.4.\n",
            "If you wish to scale the data, use Pipeline with a StandardScaler in a preprocessing stage. To reproduce the previous behavior:\n",
            "\n",
            "from sklearn.pipeline import make_pipeline\n",
            "\n",
            "model = make_pipeline(StandardScaler(with_mean=False), LassoLarsIC())\n",
            "\n",
            "If you wish to pass a sample_weight parameter, you need to pass it as a fit parameter to each step of the pipeline as follows:\n",
            "\n",
            "kwargs = {s[0] + '__sample_weight': sample_weight for s in model.steps}\n",
            "model.fit(X, y, **kwargs)\n",
            "\n",
            "Set parameter alpha to: original_alpha * np.sqrt(n_samples). \n",
            "  FutureWarning,\n",
            "/usr/local/lib/python3.7/dist-packages/sklearn/linear_model/_base.py:138: FutureWarning: The default of 'normalize' will be set to False in version 1.2 and deprecated in version 1.4.\n",
            "If you wish to scale the data, use Pipeline with a StandardScaler in a preprocessing stage. To reproduce the previous behavior:\n",
            "\n",
            "from sklearn.pipeline import make_pipeline\n",
            "\n",
            "model = make_pipeline(StandardScaler(with_mean=False), LassoLarsIC())\n",
            "\n",
            "If you wish to pass a sample_weight parameter, you need to pass it as a fit parameter to each step of the pipeline as follows:\n",
            "\n",
            "kwargs = {s[0] + '__sample_weight': sample_weight for s in model.steps}\n",
            "model.fit(X, y, **kwargs)\n",
            "\n",
            "Set parameter alpha to: original_alpha * np.sqrt(n_samples). \n",
            "  FutureWarning,\n",
            "/usr/local/lib/python3.7/dist-packages/sklearn/linear_model/_base.py:138: FutureWarning: The default of 'normalize' will be set to False in version 1.2 and deprecated in version 1.4.\n",
            "If you wish to scale the data, use Pipeline with a StandardScaler in a preprocessing stage. To reproduce the previous behavior:\n",
            "\n",
            "from sklearn.pipeline import make_pipeline\n",
            "\n",
            "model = make_pipeline(StandardScaler(with_mean=False), LassoLarsIC())\n",
            "\n",
            "If you wish to pass a sample_weight parameter, you need to pass it as a fit parameter to each step of the pipeline as follows:\n",
            "\n",
            "kwargs = {s[0] + '__sample_weight': sample_weight for s in model.steps}\n",
            "model.fit(X, y, **kwargs)\n",
            "\n",
            "Set parameter alpha to: original_alpha * np.sqrt(n_samples). \n",
            "  FutureWarning,\n",
            "/usr/local/lib/python3.7/dist-packages/sklearn/linear_model/_base.py:138: FutureWarning: The default of 'normalize' will be set to False in version 1.2 and deprecated in version 1.4.\n",
            "If you wish to scale the data, use Pipeline with a StandardScaler in a preprocessing stage. To reproduce the previous behavior:\n",
            "\n",
            "from sklearn.pipeline import make_pipeline\n",
            "\n",
            "model = make_pipeline(StandardScaler(with_mean=False), LassoLarsIC())\n",
            "\n",
            "If you wish to pass a sample_weight parameter, you need to pass it as a fit parameter to each step of the pipeline as follows:\n",
            "\n",
            "kwargs = {s[0] + '__sample_weight': sample_weight for s in model.steps}\n",
            "model.fit(X, y, **kwargs)\n",
            "\n",
            "Set parameter alpha to: original_alpha * np.sqrt(n_samples). \n",
            "  FutureWarning,\n",
            "/usr/local/lib/python3.7/dist-packages/sklearn/linear_model/_base.py:138: FutureWarning: The default of 'normalize' will be set to False in version 1.2 and deprecated in version 1.4.\n",
            "If you wish to scale the data, use Pipeline with a StandardScaler in a preprocessing stage. To reproduce the previous behavior:\n",
            "\n",
            "from sklearn.pipeline import make_pipeline\n",
            "\n",
            "model = make_pipeline(StandardScaler(with_mean=False), LassoLarsIC())\n",
            "\n",
            "If you wish to pass a sample_weight parameter, you need to pass it as a fit parameter to each step of the pipeline as follows:\n",
            "\n",
            "kwargs = {s[0] + '__sample_weight': sample_weight for s in model.steps}\n",
            "model.fit(X, y, **kwargs)\n",
            "\n",
            "Set parameter alpha to: original_alpha * np.sqrt(n_samples). \n",
            "  FutureWarning,\n",
            "/usr/local/lib/python3.7/dist-packages/sklearn/linear_model/_base.py:138: FutureWarning: The default of 'normalize' will be set to False in version 1.2 and deprecated in version 1.4.\n",
            "If you wish to scale the data, use Pipeline with a StandardScaler in a preprocessing stage. To reproduce the previous behavior:\n",
            "\n",
            "from sklearn.pipeline import make_pipeline\n",
            "\n",
            "model = make_pipeline(StandardScaler(with_mean=False), LassoLarsIC())\n",
            "\n",
            "If you wish to pass a sample_weight parameter, you need to pass it as a fit parameter to each step of the pipeline as follows:\n",
            "\n",
            "kwargs = {s[0] + '__sample_weight': sample_weight for s in model.steps}\n",
            "model.fit(X, y, **kwargs)\n",
            "\n",
            "Set parameter alpha to: original_alpha * np.sqrt(n_samples). \n",
            "  FutureWarning,\n",
            "/usr/local/lib/python3.7/dist-packages/sklearn/linear_model/_base.py:138: FutureWarning: The default of 'normalize' will be set to False in version 1.2 and deprecated in version 1.4.\n",
            "If you wish to scale the data, use Pipeline with a StandardScaler in a preprocessing stage. To reproduce the previous behavior:\n",
            "\n",
            "from sklearn.pipeline import make_pipeline\n",
            "\n",
            "model = make_pipeline(StandardScaler(with_mean=False), LassoLarsIC())\n",
            "\n",
            "If you wish to pass a sample_weight parameter, you need to pass it as a fit parameter to each step of the pipeline as follows:\n",
            "\n",
            "kwargs = {s[0] + '__sample_weight': sample_weight for s in model.steps}\n",
            "model.fit(X, y, **kwargs)\n",
            "\n",
            "Set parameter alpha to: original_alpha * np.sqrt(n_samples). \n",
            "  FutureWarning,\n",
            "/usr/local/lib/python3.7/dist-packages/sklearn/linear_model/_base.py:138: FutureWarning: The default of 'normalize' will be set to False in version 1.2 and deprecated in version 1.4.\n",
            "If you wish to scale the data, use Pipeline with a StandardScaler in a preprocessing stage. To reproduce the previous behavior:\n",
            "\n",
            "from sklearn.pipeline import make_pipeline\n",
            "\n",
            "model = make_pipeline(StandardScaler(with_mean=False), LassoLarsIC())\n",
            "\n",
            "If you wish to pass a sample_weight parameter, you need to pass it as a fit parameter to each step of the pipeline as follows:\n",
            "\n",
            "kwargs = {s[0] + '__sample_weight': sample_weight for s in model.steps}\n",
            "model.fit(X, y, **kwargs)\n",
            "\n",
            "Set parameter alpha to: original_alpha * np.sqrt(n_samples). \n",
            "  FutureWarning,\n",
            "/usr/local/lib/python3.7/dist-packages/sklearn/linear_model/_base.py:138: FutureWarning: The default of 'normalize' will be set to False in version 1.2 and deprecated in version 1.4.\n",
            "If you wish to scale the data, use Pipeline with a StandardScaler in a preprocessing stage. To reproduce the previous behavior:\n",
            "\n",
            "from sklearn.pipeline import make_pipeline\n",
            "\n",
            "model = make_pipeline(StandardScaler(with_mean=False), LassoLarsIC())\n",
            "\n",
            "If you wish to pass a sample_weight parameter, you need to pass it as a fit parameter to each step of the pipeline as follows:\n",
            "\n",
            "kwargs = {s[0] + '__sample_weight': sample_weight for s in model.steps}\n",
            "model.fit(X, y, **kwargs)\n",
            "\n",
            "Set parameter alpha to: original_alpha * np.sqrt(n_samples). \n",
            "  FutureWarning,\n"
          ]
        },
        {
          "output_type": "execute_result",
          "data": {
            "text/plain": [
              "<graphviz.dot.Digraph at 0x7f7c4f07b710>"
            ],
            "image/svg+xml": "<?xml version=\"1.0\" encoding=\"UTF-8\" standalone=\"no\"?>\n<!DOCTYPE svg PUBLIC \"-//W3C//DTD SVG 1.1//EN\"\n \"http://www.w3.org/Graphics/SVG/1.1/DTD/svg11.dtd\">\n<!-- Generated by graphviz version 2.40.1 (20161225.0304)\n -->\n<!-- Title: %3 Pages: 1 -->\n<svg width=\"872pt\" height=\"566pt\"\n viewBox=\"0.00 0.00 872.14 566.00\" xmlns=\"http://www.w3.org/2000/svg\" xmlns:xlink=\"http://www.w3.org/1999/xlink\">\n<g id=\"graph0\" class=\"graph\" transform=\"scale(1 1) rotate(0) translate(4 562)\">\n<title>%3</title>\n<polygon fill=\"#ffffff\" stroke=\"transparent\" points=\"-4,4 -4,-562 868.1448,-562 868.1448,4 -4,4\"/>\n<!-- 0. CD_(2D) -->\n<g id=\"node1\" class=\"node\">\n<title>0. CD_(2D)</title>\n<ellipse fill=\"none\" stroke=\"#000000\" cx=\"241\" cy=\"-540\" rx=\"55.7903\" ry=\"18\"/>\n<text text-anchor=\"middle\" x=\"241\" y=\"-536.3\" font-family=\"Times,serif\" font-size=\"14.00\" fill=\"#000000\">0. CD_(2D)</text>\n</g>\n<!-- 3. Q_T -->\n<g id=\"node2\" class=\"node\">\n<title>3. Q_T</title>\n<ellipse fill=\"none\" stroke=\"#000000\" cx=\"322\" cy=\"-453\" rx=\"38.1938\" ry=\"18\"/>\n<text text-anchor=\"middle\" x=\"322\" y=\"-449.3\" font-family=\"Times,serif\" font-size=\"14.00\" fill=\"#000000\">3. Q_T</text>\n</g>\n<!-- 0. CD_(2D)&#45;&gt;3. Q_T -->\n<g id=\"edge1\" class=\"edge\">\n<title>0. CD_(2D)&#45;&gt;3. Q_T</title>\n<path fill=\"none\" stroke=\"#000000\" d=\"M257.3916,-522.3943C269.4829,-509.4072 286.0818,-491.5788 299.4272,-477.2449\"/>\n<polygon fill=\"#000000\" stroke=\"#000000\" points=\"302.2047,-479.398 306.4573,-469.694 297.0814,-474.628 302.2047,-479.398\"/>\n<text text-anchor=\"middle\" x=\"299.5\" y=\"-492.8\" font-family=\"Times,serif\" font-size=\"14.00\" fill=\"#000000\">0.92</text>\n</g>\n<!-- 4. Q_AFE_(O) -->\n<g id=\"node4\" class=\"node\">\n<title>4. Q_AFE_(O)</title>\n<ellipse fill=\"none\" stroke=\"#000000\" cx=\"235\" cy=\"-366\" rx=\"67.6881\" ry=\"18\"/>\n<text text-anchor=\"middle\" x=\"235\" y=\"-362.3\" font-family=\"Times,serif\" font-size=\"14.00\" fill=\"#000000\">4. Q_AFE_(O)</text>\n</g>\n<!-- 0. CD_(2D)&#45;&gt;4. Q_AFE_(O) -->\n<g id=\"edge3\" class=\"edge\">\n<title>0. CD_(2D)&#45;&gt;4. Q_AFE_(O)</title>\n<path fill=\"none\" stroke=\"#000000\" d=\"M240.3692,-521.7078C239.3222,-491.3436 237.218,-430.3226 235.9775,-394.3464\"/>\n<polygon fill=\"#000000\" stroke=\"#000000\" points=\"239.465,-393.9205 235.6223,-384.0471 232.4691,-394.1618 239.465,-393.9205\"/>\n<text text-anchor=\"middle\" x=\"254.5\" y=\"-449.3\" font-family=\"Times,serif\" font-size=\"14.00\" fill=\"#000000\">&#45;0.69</text>\n</g>\n<!-- 5. Q_R&#45; -->\n<g id=\"node5\" class=\"node\">\n<title>5. Q_R&#45;</title>\n<ellipse fill=\"none\" stroke=\"#000000\" cx=\"404\" cy=\"-279\" rx=\"41.6928\" ry=\"18\"/>\n<text text-anchor=\"middle\" x=\"404\" y=\"-275.3\" font-family=\"Times,serif\" font-size=\"14.00\" fill=\"#000000\">5. Q_R&#45;</text>\n</g>\n<!-- 0. CD_(2D)&#45;&gt;5. Q_R&#45; -->\n<g id=\"edge6\" class=\"edge\">\n<title>0. CD_(2D)&#45;&gt;5. Q_R&#45;</title>\n<path fill=\"none\" stroke=\"#000000\" d=\"M293.044,-533.2886C328.8908,-527.5255 372.1182,-517.9243 384,-504 408.6487,-475.1142 407.4502,-361.1732 405.4047,-307.3919\"/>\n<polygon fill=\"#000000\" stroke=\"#000000\" points=\"408.8926,-307.0256 404.9781,-297.1804 401.8987,-307.3178 408.8926,-307.0256\"/>\n<text text-anchor=\"middle\" x=\"418\" y=\"-405.8\" font-family=\"Times,serif\" font-size=\"14.00\" fill=\"#000000\">0.11</text>\n</g>\n<!-- 8. dis_y_A&#39;1 -->\n<g id=\"node8\" class=\"node\">\n<title>8. dis_y_A&#39;1</title>\n<ellipse fill=\"none\" stroke=\"#000000\" cx=\"512\" cy=\"-192\" rx=\"59.2899\" ry=\"18\"/>\n<text text-anchor=\"middle\" x=\"512\" y=\"-188.3\" font-family=\"Times,serif\" font-size=\"14.00\" fill=\"#000000\">8. dis_y_A&#39;1</text>\n</g>\n<!-- 0. CD_(2D)&#45;&gt;8. dis_y_A&#39;1 -->\n<g id=\"edge13\" class=\"edge\">\n<title>0. CD_(2D)&#45;&gt;8. dis_y_A&#39;1</title>\n<path fill=\"none\" stroke=\"#000000\" d=\"M291.6029,-532.3231C353.8168,-521.7302 453.9031,-500.5359 476,-471 532.6392,-395.2928 524.202,-274.5353 516.7225,-220.1591\"/>\n<polygon fill=\"#000000\" stroke=\"#000000\" points=\"520.1761,-219.5867 515.259,-210.202 513.2505,-220.6047 520.1761,-219.5867\"/>\n<text text-anchor=\"middle\" x=\"534.5\" y=\"-362.3\" font-family=\"Times,serif\" font-size=\"14.00\" fill=\"#000000\">&#45;0.08</text>\n</g>\n<!-- 9. Q_AFE_(A) -->\n<g id=\"node9\" class=\"node\">\n<title>9. Q_AFE_(A)</title>\n<ellipse fill=\"none\" stroke=\"#000000\" cx=\"304\" cy=\"-105\" rx=\"67.6881\" ry=\"18\"/>\n<text text-anchor=\"middle\" x=\"304\" y=\"-101.3\" font-family=\"Times,serif\" font-size=\"14.00\" fill=\"#000000\">9. Q_AFE_(A)</text>\n</g>\n<!-- 0. CD_(2D)&#45;&gt;9. Q_AFE_(A) -->\n<g id=\"edge18\" class=\"edge\">\n<title>0. CD_(2D)&#45;&gt;9. Q_AFE_(A)</title>\n<path fill=\"none\" stroke=\"#000000\" d=\"M197.4065,-528.4523C143.5634,-512.879 59,-483.5564 59,-453 59,-453 59,-453 59,-192 59,-154.4411 162.5403,-128.9479 235.0005,-115.7059\"/>\n<polygon fill=\"#000000\" stroke=\"#000000\" points=\"235.776,-119.1228 245.0046,-113.9187 234.5449,-112.2319 235.776,-119.1228\"/>\n<text text-anchor=\"middle\" x=\"72.5\" y=\"-318.8\" font-family=\"Times,serif\" font-size=\"14.00\" fill=\"#000000\">2.00</text>\n</g>\n<!-- 10. target_label -->\n<g id=\"node10\" class=\"node\">\n<title>10. target_label</title>\n<ellipse fill=\"none\" stroke=\"#000000\" cx=\"167\" cy=\"-18\" rx=\"68.4888\" ry=\"18\"/>\n<text text-anchor=\"middle\" x=\"167\" y=\"-14.3\" font-family=\"Times,serif\" font-size=\"14.00\" fill=\"#000000\">10. target_label</text>\n</g>\n<!-- 0. CD_(2D)&#45;&gt;10. target_label -->\n<g id=\"edge25\" class=\"edge\">\n<title>0. CD_(2D)&#45;&gt;10. target_label</title>\n<path fill=\"none\" stroke=\"#000000\" d=\"M190.4785,-532.2375C119.8096,-519.9306 0,-493.146 0,-453 0,-453 0,-453 0,-105 0,-59.4672 49.4329,-37.7274 94.5093,-27.3688\"/>\n<polygon fill=\"#000000\" stroke=\"#000000\" points=\"95.2927,-30.7805 104.3402,-25.2675 93.8295,-23.9351 95.2927,-30.7805\"/>\n<text text-anchor=\"middle\" x=\"15.5\" y=\"-275.3\" font-family=\"Times,serif\" font-size=\"14.00\" fill=\"#000000\">&#45;0.83</text>\n</g>\n<!-- 3. Q_T&#45;&gt;4. Q_AFE_(O) -->\n<g id=\"edge5\" class=\"edge\">\n<title>3. Q_T&#45;&gt;4. Q_AFE_(O)</title>\n<path fill=\"none\" stroke=\"#000000\" d=\"M298.9278,-438.1793C290.3362,-432.1287 280.7889,-424.7367 273,-417 265.5578,-409.6077 258.4061,-400.6786 252.3542,-392.3713\"/>\n<polygon fill=\"#000000\" stroke=\"#000000\" points=\"255.0991,-390.1904 246.4795,-384.0299 249.376,-394.2211 255.0991,-390.1904\"/>\n<text text-anchor=\"middle\" x=\"286.5\" y=\"-405.8\" font-family=\"Times,serif\" font-size=\"14.00\" fill=\"#000000\">0.26</text>\n</g>\n<!-- 3. Q_T&#45;&gt;5. Q_R&#45; -->\n<g id=\"edge8\" class=\"edge\">\n<title>3. Q_T&#45;&gt;5. Q_R&#45;</title>\n<path fill=\"none\" stroke=\"#000000\" d=\"M325.3486,-434.8258C329.7622,-413.3056 338.6879,-376.7573 353,-348 360.8401,-332.247 372.3035,-316.3406 382.3772,-303.7765\"/>\n<polygon fill=\"#000000\" stroke=\"#000000\" points=\"385.0935,-305.9838 388.7444,-296.0378 379.688,-301.5362 385.0935,-305.9838\"/>\n<text text-anchor=\"middle\" x=\"368.5\" y=\"-362.3\" font-family=\"Times,serif\" font-size=\"14.00\" fill=\"#000000\">&#45;0.04</text>\n</g>\n<!-- 3. Q_T&#45;&gt;8. dis_y_A&#39;1 -->\n<g id=\"edge15\" class=\"edge\">\n<title>3. Q_T&#45;&gt;8. dis_y_A&#39;1</title>\n<path fill=\"none\" stroke=\"#000000\" d=\"M337.2587,-436.4657C349.9483,-422.6095 368.3905,-402.2251 384,-384 416.4656,-346.0942 427.1951,-338.4458 455,-297 472.0117,-271.6425 488.3074,-240.7264 499.085,-219.0303\"/>\n<polygon fill=\"#000000\" stroke=\"#000000\" points=\"502.2275,-220.5712 503.4915,-210.052 495.9435,-217.487 502.2275,-220.5712\"/>\n<text text-anchor=\"middle\" x=\"455.5\" y=\"-318.8\" font-family=\"Times,serif\" font-size=\"14.00\" fill=\"#000000\">0.03</text>\n</g>\n<!-- 3. Q_T&#45;&gt;9. Q_AFE_(A) -->\n<g id=\"edge20\" class=\"edge\">\n<title>3. Q_T&#45;&gt;9. Q_AFE_(A)</title>\n<path fill=\"none\" stroke=\"#000000\" d=\"M292.0648,-441.3947C245.8382,-423.3346 161.9521,-389.9504 158,-384 127.442,-337.9908 236.082,-190.794 283.218,-130.8096\"/>\n<polygon fill=\"#000000\" stroke=\"#000000\" points=\"286.2419,-132.6285 289.7023,-122.6147 280.7525,-128.2849 286.2419,-132.6285\"/>\n<text text-anchor=\"middle\" x=\"207.5\" y=\"-275.3\" font-family=\"Times,serif\" font-size=\"14.00\" fill=\"#000000\">&#45;0.90</text>\n</g>\n<!-- 3. Q_T&#45;&gt;10. target_label -->\n<g id=\"edge26\" class=\"edge\">\n<title>3. Q_T&#45;&gt;10. target_label</title>\n<path fill=\"none\" stroke=\"#000000\" d=\"M292.7822,-441.2739C286.6338,-439.024 280.1474,-436.8088 274,-435 194.5874,-411.6335 101,-448.7789 101,-366 101,-366 101,-366 101,-105 101,-80.0102 118.4975,-57.6895 135.4739,-41.9146\"/>\n<polygon fill=\"#000000\" stroke=\"#000000\" points=\"137.9767,-44.3745 143.1725,-35.1412 133.3527,-39.119 137.9767,-44.3745\"/>\n<text text-anchor=\"middle\" x=\"114.5\" y=\"-231.8\" font-family=\"Times,serif\" font-size=\"14.00\" fill=\"#000000\">0.43</text>\n</g>\n<!-- 2. |A&#39;_dis| -->\n<g id=\"node3\" class=\"node\">\n<title>2. |A&#39;_dis|</title>\n<ellipse fill=\"none\" stroke=\"#000000\" cx=\"587\" cy=\"-540\" rx=\"48.1917\" ry=\"18\"/>\n<text text-anchor=\"middle\" x=\"587\" y=\"-536.3\" font-family=\"Times,serif\" font-size=\"14.00\" fill=\"#000000\">2. |A&#39;_dis|</text>\n</g>\n<!-- 2. |A&#39;_dis|&#45;&gt;3. Q_T -->\n<g id=\"edge2\" class=\"edge\">\n<title>2. |A&#39;_dis|&#45;&gt;3. Q_T</title>\n<path fill=\"none\" stroke=\"#000000\" d=\"M543.2313,-532.3354C511.8088,-526.2318 468.7054,-516.6207 432,-504 405.9899,-495.0567 377.8746,-481.9566 356.5791,-471.2729\"/>\n<polygon fill=\"#000000\" stroke=\"#000000\" points=\"358.1025,-468.1211 347.6021,-466.7099 354.9307,-474.3612 358.1025,-468.1211\"/>\n<text text-anchor=\"middle\" x=\"449\" y=\"-492.8\" font-family=\"Times,serif\" font-size=\"14.00\" fill=\"#000000\">12.73</text>\n</g>\n<!-- 2. |A&#39;_dis|&#45;&gt;4. Q_AFE_(O) -->\n<g id=\"edge4\" class=\"edge\">\n<title>2. |A&#39;_dis|&#45;&gt;4. Q_AFE_(O)</title>\n<path fill=\"none\" stroke=\"#000000\" d=\"M557.8949,-525.6128C495.47,-494.7551 348.5447,-422.1272 276.4168,-386.4731\"/>\n<polygon fill=\"#000000\" stroke=\"#000000\" points=\"277.6839,-383.1952 267.1684,-381.9014 274.5819,-389.4704 277.6839,-383.1952\"/>\n<text text-anchor=\"middle\" x=\"458.5\" y=\"-449.3\" font-family=\"Times,serif\" font-size=\"14.00\" fill=\"#000000\">3.17</text>\n</g>\n<!-- 2. |A&#39;_dis|&#45;&gt;5. Q_R&#45; -->\n<g id=\"edge7\" class=\"edge\">\n<title>2. |A&#39;_dis|&#45;&gt;5. Q_R&#45;</title>\n<path fill=\"none\" stroke=\"#000000\" d=\"M574.7087,-522.4698C543.1943,-477.523 459.3847,-357.9913 422.2034,-304.9623\"/>\n<polygon fill=\"#000000\" stroke=\"#000000\" points=\"424.8446,-302.6325 416.2378,-296.4539 419.113,-306.6512 424.8446,-302.6325\"/>\n<text text-anchor=\"middle\" x=\"512.5\" y=\"-405.8\" font-family=\"Times,serif\" font-size=\"14.00\" fill=\"#000000\">0.91</text>\n</g>\n<!-- 6. |x_A&#39;_dis| -->\n<g id=\"node6\" class=\"node\">\n<title>6. |x_A&#39;_dis|</title>\n<ellipse fill=\"none\" stroke=\"#000000\" cx=\"711\" cy=\"-279\" rx=\"57.6901\" ry=\"18\"/>\n<text text-anchor=\"middle\" x=\"711\" y=\"-275.3\" font-family=\"Times,serif\" font-size=\"14.00\" fill=\"#000000\">6. |x_A&#39;_dis|</text>\n</g>\n<!-- 2. |A&#39;_dis|&#45;&gt;6. |x_A&#39;_dis| -->\n<g id=\"edge10\" class=\"edge\">\n<title>2. |A&#39;_dis|&#45;&gt;6. |x_A&#39;_dis|</title>\n<path fill=\"none\" stroke=\"#000000\" d=\"M625.1578,-528.7139C637.935,-523.1741 651.1621,-515.2066 660,-504 706.0383,-445.6226 712.1266,-353.6112 711.9945,-307.431\"/>\n<polygon fill=\"#000000\" stroke=\"#000000\" points=\"715.4919,-307.2019 711.8602,-297.249 708.4925,-307.2943 715.4919,-307.2019\"/>\n<text text-anchor=\"middle\" x=\"715.5\" y=\"-405.8\" font-family=\"Times,serif\" font-size=\"14.00\" fill=\"#000000\">0.36</text>\n</g>\n<!-- 7. dis_x_A&#39;2 -->\n<g id=\"node7\" class=\"node\">\n<title>7. dis_x_A&#39;2</title>\n<ellipse fill=\"none\" stroke=\"#000000\" cx=\"805\" cy=\"-192\" rx=\"59.2899\" ry=\"18\"/>\n<text text-anchor=\"middle\" x=\"805\" y=\"-188.3\" font-family=\"Times,serif\" font-size=\"14.00\" fill=\"#000000\">7. dis_x_A&#39;2</text>\n</g>\n<!-- 2. |A&#39;_dis|&#45;&gt;7. dis_x_A&#39;2 -->\n<g id=\"edge11\" class=\"edge\">\n<title>2. |A&#39;_dis|&#45;&gt;7. dis_x_A&#39;2</title>\n<path fill=\"none\" stroke=\"#000000\" d=\"M629.9917,-531.6898C692.7342,-518.3132 802,-489.7432 802,-453 802,-453 802,-453 802,-279 802,-259.5359 802.7593,-237.6369 803.5139,-220.6791\"/>\n<polygon fill=\"#000000\" stroke=\"#000000\" points=\"807.0271,-220.4777 804.001,-210.3242 800.0349,-220.1487 807.0271,-220.4777\"/>\n<text text-anchor=\"middle\" x=\"817.5\" y=\"-362.3\" font-family=\"Times,serif\" font-size=\"14.00\" fill=\"#000000\">&#45;0.81</text>\n</g>\n<!-- 2. |A&#39;_dis|&#45;&gt;8. dis_y_A&#39;1 -->\n<g id=\"edge14\" class=\"edge\">\n<title>2. |A&#39;_dis|&#45;&gt;8. dis_y_A&#39;1</title>\n<path fill=\"none\" stroke=\"#000000\" d=\"M587,-521.6694C587,-504.0629 587,-476.7135 587,-453 587,-453 587,-453 587,-279 587,-252.3028 566.4893,-229.7358 546.92,-214.2802\"/>\n<polygon fill=\"#000000\" stroke=\"#000000\" points=\"548.7584,-211.2846 538.6534,-208.1005 544.5672,-216.8912 548.7584,-211.2846\"/>\n<text text-anchor=\"middle\" x=\"602.5\" y=\"-362.3\" font-family=\"Times,serif\" font-size=\"14.00\" fill=\"#000000\">&#45;0.33</text>\n</g>\n<!-- 2. |A&#39;_dis|&#45;&gt;9. Q_AFE_(A) -->\n<g id=\"edge19\" class=\"edge\">\n<title>2. |A&#39;_dis|&#45;&gt;9. Q_AFE_(A)</title>\n<path fill=\"none\" stroke=\"#000000\" d=\"M594.8341,-521.923C597.0677,-516.2633 599.3421,-509.9426 601,-504 615.5498,-451.8477 617.3158,-437.9408 622,-384 630.2346,-289.1752 646.378,-242.2167 580,-174 551.8728,-145.0936 447.3029,-124.9869 375.2731,-114.2169\"/>\n<polygon fill=\"#000000\" stroke=\"#000000\" points=\"375.7388,-110.7478 365.3367,-112.7592 374.7227,-117.6737 375.7388,-110.7478\"/>\n<text text-anchor=\"middle\" x=\"645\" y=\"-318.8\" font-family=\"Times,serif\" font-size=\"14.00\" fill=\"#000000\">13.52</text>\n</g>\n<!-- 4. Q_AFE_(O)&#45;&gt;5. Q_R&#45; -->\n<g id=\"edge9\" class=\"edge\">\n<title>4. Q_AFE_(O)&#45;&gt;5. Q_R&#45;</title>\n<path fill=\"none\" stroke=\"#000000\" d=\"M251.6665,-348.3751C262.7814,-337.4836 278.2063,-323.9288 294,-315 313.4532,-304.0024 336.7638,-295.766 356.9092,-289.9673\"/>\n<polygon fill=\"#000000\" stroke=\"#000000\" points=\"358.1054,-293.2681 366.815,-287.2354 356.2443,-286.52 358.1054,-293.2681\"/>\n<text text-anchor=\"middle\" x=\"309.5\" y=\"-318.8\" font-family=\"Times,serif\" font-size=\"14.00\" fill=\"#000000\">&#45;0.02</text>\n</g>\n<!-- 4. Q_AFE_(O)&#45;&gt;9. Q_AFE_(A) -->\n<g id=\"edge21\" class=\"edge\">\n<title>4. Q_AFE_(O)&#45;&gt;9. Q_AFE_(A)</title>\n<path fill=\"none\" stroke=\"#000000\" d=\"M239.8519,-347.647C251.7579,-302.6115 282.4757,-186.4178 296.6428,-132.8295\"/>\n<polygon fill=\"#000000\" stroke=\"#000000\" points=\"300.0728,-133.5487 299.245,-122.9862 293.3053,-131.7595 300.0728,-133.5487\"/>\n<text text-anchor=\"middle\" x=\"286.5\" y=\"-231.8\" font-family=\"Times,serif\" font-size=\"14.00\" fill=\"#000000\">&#45;1.38</text>\n</g>\n<!-- 4. Q_AFE_(O)&#45;&gt;10. target_label -->\n<g id=\"edge27\" class=\"edge\">\n<title>4. Q_AFE_(O)&#45;&gt;10. target_label</title>\n<path fill=\"none\" stroke=\"#000000\" d=\"M231.4398,-347.78C220.2858,-290.6979 185.9628,-115.045 172.4999,-46.1464\"/>\n<polygon fill=\"#000000\" stroke=\"#000000\" points=\"175.8779,-45.1828 170.525,-36.0397 169.0078,-46.5253 175.8779,-45.1828\"/>\n<text text-anchor=\"middle\" x=\"217.5\" y=\"-188.3\" font-family=\"Times,serif\" font-size=\"14.00\" fill=\"#000000\">0.28</text>\n</g>\n<!-- 5. Q_R&#45;&#45;&gt;8. dis_y_A&#39;1 -->\n<g id=\"edge16\" class=\"edge\">\n<title>5. Q_R&#45;&#45;&gt;8. dis_y_A&#39;1</title>\n<path fill=\"none\" stroke=\"#000000\" d=\"M410.8365,-261.0806C415.6774,-250.3482 423.0775,-237.0724 433,-228 441.2609,-220.4468 451.3774,-214.2463 461.5775,-209.2493\"/>\n<polygon fill=\"#000000\" stroke=\"#000000\" points=\"463.2685,-212.3251 470.9177,-204.9943 460.3665,-205.955 463.2685,-212.3251\"/>\n<text text-anchor=\"middle\" x=\"448.5\" y=\"-231.8\" font-family=\"Times,serif\" font-size=\"14.00\" fill=\"#000000\">&#45;0.06</text>\n</g>\n<!-- 5. Q_R&#45;&#45;&gt;9. Q_AFE_(A) -->\n<g id=\"edge22\" class=\"edge\">\n<title>5. Q_R&#45;&#45;&gt;9. Q_AFE_(A)</title>\n<path fill=\"none\" stroke=\"#000000\" d=\"M393.8612,-261.3584C376.3125,-230.8237 340.1741,-167.943 319.4713,-131.9201\"/>\n<polygon fill=\"#000000\" stroke=\"#000000\" points=\"322.3327,-129.8747 314.3153,-122.9485 316.2636,-133.3627 322.3327,-129.8747\"/>\n<text text-anchor=\"middle\" x=\"376.5\" y=\"-188.3\" font-family=\"Times,serif\" font-size=\"14.00\" fill=\"#000000\">3.21</text>\n</g>\n<!-- 6. |x_A&#39;_dis|&#45;&gt;7. dis_x_A&#39;2 -->\n<g id=\"edge12\" class=\"edge\">\n<title>6. |x_A&#39;_dis|&#45;&gt;7. dis_x_A&#39;2</title>\n<path fill=\"none\" stroke=\"#000000\" d=\"M727.2137,-261.5309C736.785,-251.4579 749.285,-238.7079 761,-228 765.4804,-223.9048 770.3475,-219.6995 775.1568,-215.6735\"/>\n<polygon fill=\"#000000\" stroke=\"#000000\" points=\"777.6229,-218.1767 783.1177,-209.1181 773.1732,-212.7729 777.6229,-218.1767\"/>\n<text text-anchor=\"middle\" x=\"774.5\" y=\"-231.8\" font-family=\"Times,serif\" font-size=\"14.00\" fill=\"#000000\">1.63</text>\n</g>\n<!-- 6. |x_A&#39;_dis|&#45;&gt;8. dis_y_A&#39;1 -->\n<g id=\"edge17\" class=\"edge\">\n<title>6. |x_A&#39;_dis|&#45;&gt;8. dis_y_A&#39;1</title>\n<path fill=\"none\" stroke=\"#000000\" d=\"M679.4186,-263.85C657.5327,-253.4763 627.65,-239.5593 601,-228 587.0851,-221.9645 571.8169,-215.6709 557.9159,-210.0654\"/>\n<polygon fill=\"#000000\" stroke=\"#000000\" points=\"559.1281,-206.7807 548.5439,-206.3063 556.5222,-213.2775 559.1281,-206.7807\"/>\n<text text-anchor=\"middle\" x=\"649.5\" y=\"-231.8\" font-family=\"Times,serif\" font-size=\"14.00\" fill=\"#000000\">&#45;0.27</text>\n</g>\n<!-- 6. |x_A&#39;_dis|&#45;&gt;9. Q_AFE_(A) -->\n<g id=\"edge23\" class=\"edge\">\n<title>6. |x_A&#39;_dis|&#45;&gt;9. Q_AFE_(A)</title>\n<path fill=\"none\" stroke=\"#000000\" d=\"M706.4278,-260.9835C697.6666,-230.5365 675.4097,-169.4465 632,-141 611.4114,-127.5082 470.6178,-115.9054 380.3088,-109.7367\"/>\n<polygon fill=\"#000000\" stroke=\"#000000\" points=\"380.3151,-106.2293 370.1021,-109.0479 379.8437,-113.2134 380.3151,-106.2293\"/>\n<text text-anchor=\"middle\" x=\"703\" y=\"-188.3\" font-family=\"Times,serif\" font-size=\"14.00\" fill=\"#000000\">24.32</text>\n</g>\n<!-- 7. dis_x_A&#39;2&#45;&gt;10. target_label -->\n<g id=\"edge28\" class=\"edge\">\n<title>7. dis_x_A&#39;2&#45;&gt;10. target_label</title>\n<path fill=\"none\" stroke=\"#000000\" d=\"M767.0477,-178.1469C736.8848,-167.368 693.5121,-152.3803 655,-141 503.2145,-96.1475 321.8896,-53.1832 228.8321,-31.8933\"/>\n<polygon fill=\"#000000\" stroke=\"#000000\" points=\"229.5453,-28.4661 219.0171,-29.6534 227.9877,-35.2907 229.5453,-28.4661\"/>\n<text text-anchor=\"middle\" x=\"602.5\" y=\"-101.3\" font-family=\"Times,serif\" font-size=\"14.00\" fill=\"#000000\">0.19</text>\n</g>\n<!-- 8. dis_y_A&#39;1&#45;&gt;9. Q_AFE_(A) -->\n<g id=\"edge24\" class=\"edge\">\n<title>8. dis_y_A&#39;1&#45;&gt;9. Q_AFE_(A)</title>\n<path fill=\"none\" stroke=\"#000000\" d=\"M477.1855,-177.4382C442.216,-162.8115 388.1471,-140.1961 349.7348,-124.1295\"/>\n<polygon fill=\"#000000\" stroke=\"#000000\" points=\"350.9036,-120.8245 340.3275,-120.1947 348.2024,-127.2824 350.9036,-120.8245\"/>\n<text text-anchor=\"middle\" x=\"437\" y=\"-144.8\" font-family=\"Times,serif\" font-size=\"14.00\" fill=\"#000000\">12.33</text>\n</g>\n<!-- 9. Q_AFE_(A)&#45;&gt;10. target_label -->\n<g id=\"edge29\" class=\"edge\">\n<title>9. Q_AFE_(A)&#45;&gt;10. target_label</title>\n<path fill=\"none\" stroke=\"#000000\" d=\"M277.585,-88.2255C256.0736,-74.565 225.5216,-55.1633 201.9798,-40.2135\"/>\n<polygon fill=\"#000000\" stroke=\"#000000\" points=\"203.6519,-37.1292 193.3339,-34.723 199.8993,-43.0384 203.6519,-37.1292\"/>\n<text text-anchor=\"middle\" x=\"259.5\" y=\"-57.8\" font-family=\"Times,serif\" font-size=\"14.00\" fill=\"#000000\">&#45;0.01</text>\n</g>\n</g>\n</svg>\n"
          },
          "metadata": {},
          "execution_count": 29
        }
      ]
    }
  ]
}